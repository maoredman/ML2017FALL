{
 "cells": [
  {
   "cell_type": "code",
   "execution_count": 1,
   "metadata": {},
   "outputs": [
    {
     "name": "stderr",
     "output_type": "stream",
     "text": [
      "Using TensorFlow backend.\n"
     ]
    }
   ],
   "source": [
    "import time\n",
    "import numpy as np\n",
    "from matplotlib import pyplot as plt\n",
    "%matplotlib inline\n",
    "from keras.utils import np_utils\n",
    "import keras.callbacks as cb\n",
    "from keras.models import Sequential\n",
    "from keras.layers.core import Dense, Dropout, Activation\n",
    "from keras.optimizers import RMSprop\n",
    "from keras.utils import to_categorical\n",
    "\n",
    "import csv\n",
    "import random\n",
    "import pickle"
   ]
  },
  {
   "cell_type": "code",
   "execution_count": 2,
   "metadata": {
    "collapsed": true
   },
   "outputs": [],
   "source": [
    "# 106 columns\n",
    "\n",
    "X_train = []\n",
    "Y_train = []\n",
    "\n",
    "with open('data/X_train.csv', 'rt', encoding='big5') as csvfile:\n",
    "    reader = csv.reader(csvfile)\n",
    "    row1 = next(reader) # skip headings\n",
    "    for idx, row in enumerate(reader):\n",
    "        X_train.append([float(i) for i in row] + [1.0])\n",
    "\n",
    "X_train = np.array(X_train)\n",
    "for col in [0,1,3,4,5]: # [0,1,3,4,5] only, shouldn't normalize one-hot columns, will be affected by data\n",
    "    if np.std(X_train[:,col]) != 0:\n",
    "        X_train[:,col] = np.divide((X_train[:,col] - np.average(X_train[:,col])), np.std(X_train[:,col]))\n",
    "# [[data1]\n",
    "#  [data2]]\n",
    "\n",
    "with open('data/Y_train.csv', 'rt', encoding='big5') as csvfile:\n",
    "    reader = csv.reader(csvfile)\n",
    "    row1 = next(reader) # skip headings\n",
    "    for idx, row in enumerate(reader):\n",
    "        Y_train.append(float(row[0]))\n",
    "\n",
    "Y_train = np.array(Y_train)\n",
    "# Y_train = to_categorical(Y_train, num_classes=2)\n",
    "# [[y1]\n",
    "#  [y2]]\n"
   ]
  },
  {
   "cell_type": "code",
   "execution_count": 3,
   "metadata": {},
   "outputs": [
    {
     "data": {
      "text/plain": [
       "'print(len(X_train[0]))\\nprint(Y_train[0:10])'"
      ]
     },
     "execution_count": 3,
     "metadata": {},
     "output_type": "execute_result"
    }
   ],
   "source": [
    "'''print(len(X_train[0]))\n",
    "print(Y_train[0:10])'''"
   ]
  },
  {
   "cell_type": "code",
   "execution_count": 93,
   "metadata": {
    "collapsed": true
   },
   "outputs": [],
   "source": [
    "class LossHistory(cb.Callback):\n",
    "    def on_train_begin(self, logs={}):\n",
    "        self.losses = []\n",
    "\n",
    "    def on_batch_end(self, batch, logs={}):\n",
    "        batch_loss = logs.get('loss')\n",
    "        self.losses.append(batch_loss)\n",
    "\n",
    "\n",
    "def load_data():\n",
    "    print('Loading data...')\n",
    "    # (X_train, y_train), (X_test, y_test) = mnist.load_data()\n",
    "    \n",
    "    # in future, use Keras to get validation split (I already implemented in hw2_logistic)\n",
    "    val_idxs = random.sample(range(0, len(X_train)), int(len(X_train) * 0.2))\n",
    "    X_valid = X_train[val_idxs,:]\n",
    "    Y_valid = Y_train[val_idxs]\n",
    "    \n",
    "    X_train_real = np.delete(X_train, val_idxs, axis=0)\n",
    "    Y_train_real = np.delete(Y_train, val_idxs)\n",
    "    \n",
    "    X_train_real = X_train_real.astype('float32')\n",
    "    Y_train_real = Y_train_real.astype('float32')\n",
    "    X_valid = X_valid.astype('float32')\n",
    "    Y_valid = Y_valid.astype('float32')\n",
    "\n",
    "    print('Data loaded.')\n",
    "    return [X_train_real, X_valid, Y_train_real, Y_valid]\n",
    "\n",
    "\n",
    "def init_model():\n",
    "    start_time = time.time()\n",
    "    print('Compiling Model ... ')\n",
    "    # mark I\n",
    "    '''model = Sequential()\n",
    "    model.add(Dense(100, input_dim=107)) ########################\n",
    "    model.add(Activation('relu'))\n",
    "    model.add(Dropout(0.2))\n",
    "    model.add(Dense(100))\n",
    "    model.add(Dropout(0.2))\n",
    "    model.add(Activation('relu'))\n",
    "    model.add(Dense(4))\n",
    "    model.add(Activation('relu'))\n",
    "    model.add(Dense(1))\n",
    "    model.add(Activation('sigmoid'))'''\n",
    "    # mark II\n",
    "    model = Sequential()\n",
    "    model.add(Dense(120, input_dim=107)) ########################\n",
    "    model.add(Activation('relu'))\n",
    "    model.add(Dense(1))\n",
    "    model.add(Activation('sigmoid'))\n",
    "    \n",
    "    model.compile(loss='binary_crossentropy', optimizer='adam', metrics=['accuracy'])\n",
    "    print('Model compiled in {0} seconds'.format(time.time() - start_time))\n",
    "    return model\n",
    "\n",
    "\n",
    "def run_network(data=None, model=None, epochs=50, batch=100):\n",
    "    try:\n",
    "        start_time = time.time()\n",
    "        if data is None:\n",
    "            X_train_real, X_valid, Y_train_real, Y_valid = load_data()\n",
    "        else:\n",
    "            X_train_real, X_valid, Y_train_real, Y_valid = data\n",
    "\n",
    "        if model is None:\n",
    "            model = init_model()\n",
    "\n",
    "        history = LossHistory()\n",
    "\n",
    "        print('Training model...')\n",
    "        model.fit(X_train_real, Y_train_real, nb_epoch=epochs, batch_size=batch,\n",
    "                  callbacks=[history],\n",
    "                  validation_data=(X_valid, Y_valid), verbose=2)\n",
    "\n",
    "        print(\"Training duration : {0}\".format(time.time() - start_time))\n",
    "        score = model.evaluate(X_valid, Y_valid, batch_size=1) # what is this batch_size?\n",
    "\n",
    "        print(\"Network's test score [loss, accuracy]: {0}\".format(score))\n",
    "        return model, history.losses\n",
    "    except KeyboardInterrupt:\n",
    "        print('KeyboardInterrupt')\n",
    "        return model, history.losses\n",
    "\n",
    "\n",
    "def plot_losses(losses):\n",
    "    fig = plt.figure()\n",
    "    ax = fig.add_subplot(111)\n",
    "    ax.plot(losses)\n",
    "    ax.set_title('Loss per batch')\n",
    "    fig.show()"
   ]
  },
  {
   "cell_type": "code",
   "execution_count": 19,
   "metadata": {},
   "outputs": [
    {
     "name": "stdout",
     "output_type": "stream",
     "text": [
      "Loading data...\n",
      "Data loaded.\n"
     ]
    }
   ],
   "source": [
    "X_train_real, X_valid, Y_train_real, Y_valid = load_data()"
   ]
  },
  {
   "cell_type": "code",
   "execution_count": 96,
   "metadata": {
    "scrolled": true
   },
   "outputs": [
    {
     "name": "stdout",
     "output_type": "stream",
     "text": [
      "Loading data...\n",
      "Data loaded.\n",
      "Compiling Model ... \n",
      "Model compiled in 0.07993006706237793 seconds\n",
      "Training model...\n"
     ]
    },
    {
     "name": "stderr",
     "output_type": "stream",
     "text": [
      "/usr/local/lib/python3.6/site-packages/keras/models.py:848: UserWarning: The `nb_epoch` argument in `fit` has been renamed `epochs`.\n",
      "  warnings.warn('The `nb_epoch` argument in `fit` '\n"
     ]
    },
    {
     "name": "stdout",
     "output_type": "stream",
     "text": [
      "Train on 26049 samples, validate on 6512 samples\n",
      "Epoch 1/20\n",
      "0s - loss: 0.4388 - acc: 0.7887 - val_loss: 0.3320 - val_acc: 0.8484\n",
      "Epoch 2/20\n",
      "0s - loss: 0.3272 - acc: 0.8489 - val_loss: 0.3138 - val_acc: 0.8567\n",
      "Epoch 3/20\n",
      "0s - loss: 0.3146 - acc: 0.8534 - val_loss: 0.3116 - val_acc: 0.8543\n",
      "Epoch 4/20\n",
      "0s - loss: 0.3103 - acc: 0.8555 - val_loss: 0.3084 - val_acc: 0.8609\n",
      "Epoch 5/20\n",
      "0s - loss: 0.3068 - acc: 0.8567 - val_loss: 0.3072 - val_acc: 0.8592\n",
      "Epoch 6/20\n",
      "0s - loss: 0.3045 - acc: 0.8578 - val_loss: 0.3069 - val_acc: 0.8589\n",
      "Epoch 7/20\n",
      "0s - loss: 0.3029 - acc: 0.8583 - val_loss: 0.3062 - val_acc: 0.8616\n",
      "Epoch 8/20\n",
      "0s - loss: 0.3013 - acc: 0.8587 - val_loss: 0.3057 - val_acc: 0.8604\n",
      "Epoch 9/20\n",
      "0s - loss: 0.2996 - acc: 0.8605 - val_loss: 0.3050 - val_acc: 0.8613\n",
      "Epoch 10/20\n",
      "0s - loss: 0.2986 - acc: 0.8610 - val_loss: 0.3062 - val_acc: 0.8598\n",
      "Epoch 11/20\n",
      "0s - loss: 0.2972 - acc: 0.8617 - val_loss: 0.3049 - val_acc: 0.8598\n",
      "Epoch 12/20\n",
      "0s - loss: 0.2969 - acc: 0.8624 - val_loss: 0.3060 - val_acc: 0.8601\n",
      "Epoch 13/20\n",
      "0s - loss: 0.2954 - acc: 0.8633 - val_loss: 0.3061 - val_acc: 0.8613\n",
      "Epoch 14/20\n",
      "0s - loss: 0.2943 - acc: 0.8634 - val_loss: 0.3052 - val_acc: 0.8613\n",
      "Epoch 15/20\n",
      "0s - loss: 0.2934 - acc: 0.8636 - val_loss: 0.3055 - val_acc: 0.8586\n",
      "Epoch 16/20\n",
      "0s - loss: 0.2928 - acc: 0.8642 - val_loss: 0.3053 - val_acc: 0.8612\n",
      "Epoch 17/20\n",
      "0s - loss: 0.2915 - acc: 0.8648 - val_loss: 0.3057 - val_acc: 0.8593\n",
      "Epoch 18/20\n",
      "0s - loss: 0.2905 - acc: 0.8656 - val_loss: 0.3055 - val_acc: 0.8604\n",
      "Epoch 19/20\n",
      "0s - loss: 0.2895 - acc: 0.8651 - val_loss: 0.3053 - val_acc: 0.8615\n",
      "Epoch 20/20\n",
      "0s - loss: 0.2887 - acc: 0.8645 - val_loss: 0.3063 - val_acc: 0.8613\n",
      "Training duration : 5.7968010902404785\n",
      "6502/6512 [============================>.] - ETA: 0sNetwork's test score [loss, accuracy]: [0.30632979508006047, 0.86133292383292381]\n"
     ]
    },
    {
     "name": "stderr",
     "output_type": "stream",
     "text": [
      "/usr/local/lib/python3.6/site-packages/matplotlib/figure.py:403: UserWarning: matplotlib is currently using a non-GUI backend, so cannot show the figure\n",
      "  \"matplotlib is currently using a non-GUI backend, \"\n"
     ]
    },
    {
     "data": {
      "image/png": "[encoded data removed]",
      "text/plain": [
       "<matplotlib.figure.Figure at 0x13c0a85c0>"
      ]
     },
     "metadata": {},
     "output_type": "display_data"
    }
   ],
   "source": [
    "model, losses = run_network(epochs=20, batch=300) #batch200, 0.85  batch300, 0.8467\n",
    "plot_losses(losses)"
   ]
  },
  {
   "cell_type": "code",
   "execution_count": 97,
   "metadata": {},
   "outputs": [
    {
     "name": "stdout",
     "output_type": "stream",
     "text": [
      "done!\n"
     ]
    }
   ],
   "source": [
    "X_test = []\n",
    "\n",
    "with open('data/X_test.csv', 'rt', encoding='big5') as infile:\n",
    "    reader = csv.reader(infile)\n",
    "\n",
    "    row1 = next(reader) # skip headings\n",
    "    for row in reader:\n",
    "        X_test.append([float(i) for i in row] + [1.0])\n",
    "            \n",
    "X_test = np.array(X_test)\n",
    "for col in [0,1,3,4,5]:\n",
    "    if np.std(X_test[:,col]) != 0:\n",
    "        X_test[:,col] = np.divide((X_test[:,col] - np.average(X_test[:,col])), np.std(X_test[:,col]))\n",
    "\n",
    "pred = model.predict(X_test, batch_size=1)\n",
    "pred = np.around(pred).flatten()\n",
    "# print(pred[0:100])\n",
    "\n",
    "with open('data/submission_nn.csv', 'wt') as outfile:\n",
    "    test_writer = csv.writer(outfile)\n",
    "    test_writer.writerow(['id','label'])\n",
    "    \n",
    "    counter = 0\n",
    "    for num in pred:\n",
    "        counter += 1\n",
    "        test_writer.writerow([str(counter),int(num)])\n",
    "    \n",
    "print('done!')"
   ]
  },
  {
   "cell_type": "code",
   "execution_count": 98,
   "metadata": {},
   "outputs": [],
   "source": [
    "model.save('nn_model.h5')"
   ]
  },
  {
   "cell_type": "code",
   "execution_count": null,
   "metadata": {
    "collapsed": true
   },
   "outputs": [],
   "source": []
  }
 ],
 "metadata": {
  "kernelspec": {
   "display_name": "Python 3",
   "language": "python",
   "name": "python3"
  },
  "language_info": {
   "codemirror_mode": {
    "name": "ipython",
    "version": 3
   },
   "file_extension": ".py",
   "mimetype": "text/x-python",
   "name": "python",
   "nbconvert_exporter": "python",
   "pygments_lexer": "ipython3",
   "version": "3.6.2"
  }
 },
 "nbformat": 4,
 "nbformat_minor": 2
}
