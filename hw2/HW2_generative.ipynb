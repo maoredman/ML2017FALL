{
 "cells": [
  {
   "cell_type": "code",
   "execution_count": 1,
   "metadata": {
    "collapsed": true
   },
   "outputs": [],
   "source": [
    "import numpy as np\n",
    "import math\n",
    "import pickle\n",
    "import csv"
   ]
  },
  {
   "cell_type": "code",
   "execution_count": 38,
   "metadata": {
    "collapsed": true
   },
   "outputs": [],
   "source": [
    "# 106 columns\n",
    "\n",
    "X_train = []\n",
    "Y_train = []\n",
    "\n",
    "with open('data/X_train.csv', 'rt', encoding='big5') as csvfile:\n",
    "    reader = csv.reader(csvfile)\n",
    "    row1 = next(reader) # skip headings\n",
    "    for idx, row in enumerate(reader):\n",
    "        X_train.append([float(i) for i in row])\n",
    "X_train = np.array(X_train)\n",
    "\n",
    "with open('data/Y_train.csv', 'rt', encoding='big5') as csvfile:\n",
    "    reader = csv.reader(csvfile)\n",
    "    row1 = next(reader) # skip headings\n",
    "    for idx, row in enumerate(reader):\n",
    "        Y_train.append(float(row[0]))\n",
    "Y_train = np.array(Y_train)\n",
    "\n",
    "X_0 = np.copy(X_train[np.where(Y_train==0)])\n",
    "X_1 = np.copy(X_train[np.where(Y_train==1)])\n",
    "\n",
    "X_0_cont = X_0[:,[0,1,3,4,5]]\n",
    "# X_0_cont = np.copy(X_train[np.where(Y_train==0)])\n",
    "X_0_disc = np.delete(X_0, [0,1,3,4,5], 1)\n",
    "X_1_cont = X_1[:,[0,1,3,4,5]]\n",
    "# X_1_cont = np.copy(X_train[np.where(Y_train==1)])\n",
    "X_1_disc = np.delete(X_1, [0,1,3,4,5], 1)\n",
    "\n",
    "prob0 = len(X_0) / len(X_train)\n",
    "prob1 = len(X_1) / len(X_train)"
   ]
  },
  {
   "cell_type": "markdown",
   "metadata": {},
   "source": [
    "### accuracy is better if different covariance matrixes are used"
   ]
  },
  {
   "cell_type": "code",
   "execution_count": 39,
   "metadata": {},
   "outputs": [],
   "source": [
    "# make the naive assumption that dimension is independent, which is probably wrong for both Gaussian and Bernoulli\n",
    "mu_0 = np.mean(X_0_cont, axis=0)\n",
    "mu_1 = np.mean(X_1_cont, axis=0)\n",
    "cov_0 = np.cov(X_0_cont, rowvar=0)\n",
    "cov_1 = np.cov(X_1_cont, rowvar=0)\n",
    "\n",
    "# cov_0 = cov_0_before*prob0/(prob0+prob1) + cov_1_before*prob1/(prob0+prob1)\n",
    "# cov_1 = cov_0_before*prob0/(prob0+prob1) + cov_1_before*prob1/(prob0+prob1)\n",
    "\n",
    "# array: prob of a discrete feature being 0\n",
    "prob0_0 = (X_0_disc==0).sum(axis=0) / len(X_0_disc)\n",
    "prob0_1 = (X_1_disc==0).sum(axis=0) / len(X_1_disc)"
   ]
  },
  {
   "cell_type": "code",
   "execution_count": 40,
   "metadata": {},
   "outputs": [
    {
     "name": "stdout",
     "output_type": "stream",
     "text": [
      "finished writing submission file\n"
     ]
    }
   ],
   "source": [
    "with open('data/X_test.csv', 'rt', encoding='big5') as infile:\n",
    "    reader = csv.reader(infile)\n",
    "    row1 = next(reader) # skip headings\n",
    "    with open('data/submission_gen.csv', 'wt') as outfile:\n",
    "        test_writer = csv.writer(outfile)\n",
    "        test_writer.writerow(['id','label'])\n",
    "        \n",
    "        count = 0\n",
    "        for row in reader:\n",
    "            X_input = np.array([float(i) for i in row])\n",
    "            X_input_cont = X_input[[0,1,3,4,5]]\n",
    "            # X_input_cont = np.array([float(i) for i in row])\n",
    "            X_input_disc = np.copy(np.delete(X_input, [0,1,3,4,5]))\n",
    "            \n",
    "            # print('here ok 1')\n",
    "            \n",
    "            # np.linalg.inv\n",
    "            # np.linalg.pinv\n",
    "            denom_0 = pow(np.linalg.det(cov_0),0.5)\n",
    "            denom_1 = pow(np.linalg.det(cov_1),0.5)\n",
    "            if np.isnan(denom_0) or denom_0 == 0:\n",
    "                denom_0 = pow(10,-8)\n",
    "            if np.isnan(denom_1) or denom_1 == 0:\n",
    "                denom_1 = pow(10,-8)\n",
    "            \n",
    "            X_cont_in_0 = 1 / (pow(2*math.pi, len(X_input_cont)/2) + pow(10,-8)) / denom_0 \\\n",
    "            * math.exp(-0.5*(X_input_cont - mu_0).T.dot(np.linalg.pinv(cov_0)).dot(X_input_cont - mu_0))\n",
    "            \n",
    "            X_cont_in_1 = 1 / (pow(2*math.pi, len(X_input_cont)/2) + pow(10,-8)) / denom_1 \\\n",
    "            * math.exp(-0.5*(X_input_cont - mu_1).T.dot(np.linalg.pinv(cov_1)).dot(X_input_cont - mu_1))\n",
    "            \n",
    "            # print('here ok 2')\n",
    "            \n",
    "            X_input_disc_0 = np.copy(np.delete(X_input, [0,1,3,4,5]))\n",
    "            X_input_disc_1 = np.copy(np.delete(X_input, [0,1,3,4,5]))\n",
    "            for idx in range(0, len(X_input_disc)):\n",
    "                if(X_input_disc[idx] == 0):\n",
    "                    X_input_disc_0[idx] = prob0_0[idx]\n",
    "                    X_input_disc_1[idx] = prob0_1[idx]\n",
    "                else:\n",
    "                    X_input_disc_0[idx] = 1 - prob0_0[idx]\n",
    "                    X_input_disc_1[idx] = 1 - prob0_1[idx]\n",
    "            # multiply all the probabilities together\n",
    "            X_disc_in_0 = X_input_disc_0.prod()\n",
    "            X_disc_in_1 = X_input_disc_1.prod()\n",
    "            \n",
    "            prob_X_in_0 = X_disc_in_0 * X_cont_in_0\n",
    "            prob_X_in_1 = X_disc_in_1 * X_cont_in_1\n",
    "            '''prob_X_in_0 = X_cont_in_0\n",
    "            prob_X_in_1 = X_cont_in_1'''\n",
    "            \n",
    "            if (prob_X_in_0 * prob0 + prob_X_in_1 * prob1) == 0:\n",
    "                prob_0_given_x = 0.5\n",
    "                print('both prob_X_in_0 and prob_X_in_1 are 0')\n",
    "            else:\n",
    "                prob_0_given_x = prob_X_in_0 * prob0 / (prob_X_in_0 * prob0 + prob_X_in_1 * prob1)\n",
    "            \n",
    "            if np.isnan(prob_0_given_x):\n",
    "                print('prob', prob_0_given_x)\n",
    "                # print(X_input_disc)\n",
    "                print('cov_0', cov_0)\n",
    "                print('det(cov_0)', np.linalg.det(cov_0))\n",
    "                print('pow_0.5 cov_0', pow(np.linalg.det(cov_0),0.5))\n",
    "                print('denom_0', denom_0)\n",
    "                print('X_cont_in_0', X_cont_in_0)\n",
    "                print('===========')\n",
    "                print('cov_1', cov_1)\n",
    "                print('det(cov_1)', np.linalg.det(cov_1))\n",
    "                print('pow_0.5 cov_1', pow(np.linalg.det(cov_1),0.5))\n",
    "                print('denom_1', denom_1)\n",
    "                print('X_cont_in_1', X_cont_in_1)\n",
    "                # print(np.delete(X_input, [0,1,3,4,5]))\n",
    "                break\n",
    "                \n",
    "            prediction = 1\n",
    "            if prob_0_given_x > 0.5:\n",
    "                prediction = 0\n",
    "            \n",
    "            count += 1\n",
    "            test_writer.writerow([str(count), prediction])\n",
    "            \n",
    "print('finished writing submission file')"
   ]
  },
  {
   "cell_type": "code",
   "execution_count": 115,
   "metadata": {
    "collapsed": true
   },
   "outputs": [],
   "source": [
    "with open('gen_vars.pickle', 'wb') as f:\n",
    "    pickle.dump([prob0, prob1, mu_0, mu_1, cov_0, cov_1, prob0_0, prob0_1], f)"
   ]
  },
  {
   "cell_type": "code",
   "execution_count": 114,
   "metadata": {},
   "outputs": [
    {
     "data": {
      "text/plain": [
       "'print(X_input)\\nprint(X_input_cont)\\nprint(X_input_disc)\\nprint(np.delete(X_input, [0,1,3,4,5]))'"
      ]
     },
     "execution_count": 114,
     "metadata": {},
     "output_type": "execute_result"
    }
   ],
   "source": [
    "# print(prob0)\n",
    "# print(prob1)\n",
    "'''print(len(X_0))\n",
    "print(len(X_0_cont))\n",
    "print(len(X_0_disc))'''\n",
    "'''print(mu_0)\n",
    "print(mu_1)'''\n",
    "#print(np.linalg.inv(cov_1))\n",
    "'''print(prob0_0)\n",
    "print(prob0_1)'''\n",
    "# np.linalg.det(cov_1)\n",
    "# print(X_train[0])\n",
    "'''print(X_input)\n",
    "print(X_input_cont)\n",
    "print(X_input_disc)\n",
    "print(np.delete(X_input, [0,1,3,4,5]))'''"
   ]
  },
  {
   "cell_type": "code",
   "execution_count": 118,
   "metadata": {},
   "outputs": [
    {
     "name": "stdout",
     "output_type": "stream",
     "text": [
      "[[  1.96562881e+02  -1.17796585e+05   7.23397455e+02   1.29808287e+02\n",
      "    7.99420545e+00]\n",
      " [ -1.17796585e+05   1.13384741e+10  -1.33052484e+04  -4.30057403e+05\n",
      "   -2.81105754e+04]\n",
      " [  7.23397455e+02  -1.33052484e+04   9.27637325e+05  -7.90546039e+03\n",
      "    2.12833620e+02]\n",
      " [  1.29808287e+02  -4.30057403e+05  -7.90546039e+03   9.65691480e+04\n",
      "    7.15673181e+01]\n",
      " [  7.99420545e+00  -2.81105754e+04   2.12833620e+02   7.15673181e+01\n",
      "    1.51757629e+02]]\n"
     ]
    }
   ],
   "source": [
    "with open('gen_vars.pickle', 'rb') as infile:\n",
    "    obj0, obj1, obj2, obj3, obj4, obj5, obj6, obj7 = pickle.load(infile)\n",
    "print(obj4)"
   ]
  },
  {
   "cell_type": "code",
   "execution_count": null,
   "metadata": {
    "collapsed": true
   },
   "outputs": [],
   "source": []
  }
 ],
 "metadata": {
  "kernelspec": {
   "display_name": "Python 3",
   "language": "python",
   "name": "python3"
  },
  "language_info": {
   "codemirror_mode": {
    "name": "ipython",
    "version": 3
   },
   "file_extension": ".py",
   "mimetype": "text/x-python",
   "name": "python",
   "nbconvert_exporter": "python",
   "pygments_lexer": "ipython3",
   "version": "3.6.2"
  }
 },
 "nbformat": 4,
 "nbformat_minor": 2
}
