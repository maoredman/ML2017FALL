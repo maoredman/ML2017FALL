{
 "cells": [
  {
   "cell_type": "code",
   "execution_count": 1,
   "metadata": {
    "collapsed": true,
    "deletable": true,
    "editable": true
   },
   "outputs": [],
   "source": [
    "import pickle"
   ]
  },
  {
   "cell_type": "code",
   "execution_count": 13,
   "metadata": {
    "collapsed": true,
    "deletable": true,
    "editable": true
   },
   "outputs": [],
   "source": [
    "with open('segment_text.pickle', 'rb') as handle:\n",
    "    segment_text = pickle.load(handle)\n",
    "with open('question_text.pickle', 'rb') as handle:\n",
    "    question_text = pickle.load(handle)"
   ]
  },
  {
   "cell_type": "code",
   "execution_count": 15,
   "metadata": {
    "collapsed": false,
    "deletable": true,
    "editable": true
   },
   "outputs": [
    {
     "name": "stdout",
     "output_type": "stream",
     "text": [
      "部分民間藝人用花卉和禽鳥的圖案拼成的漢字為？\n",
      "\n",
      "花鳥字：一些民間藝人用一些花卉和禽鳥的圖案拼寫成漢字，近看細節是一些花鳥畫，遠看整體卻是一幅字，這種字畫結合的藝術形式被稱作花鳥字，是一種多彩花鳥蟲魚組合書法\n"
     ]
    }
   ],
   "source": [
    "peek_idx = 200\n",
    "print(question_text[peek_idx])\n",
    "print(segment_text[peek_idx])"
   ]
  },
  {
   "cell_type": "code",
   "execution_count": null,
   "metadata": {
    "collapsed": true
   },
   "outputs": [],
   "source": []
  }
 ],
 "metadata": {
  "kernelspec": {
   "display_name": "Python 3",
   "language": "python",
   "name": "python3"
  },
  "language_info": {
   "codemirror_mode": {
    "name": "ipython",
    "version": 3
   },
   "file_extension": ".py",
   "mimetype": "text/x-python",
   "name": "python",
   "nbconvert_exporter": "python",
   "pygments_lexer": "ipython3",
   "version": "3.6.1"
  }
 },
 "nbformat": 4,
 "nbformat_minor": 2
}
