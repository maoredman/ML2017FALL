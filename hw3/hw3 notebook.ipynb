{
 "cells": [
  {
   "cell_type": "code",
   "execution_count": 10,
   "metadata": {
    "collapsed": false,
    "deletable": true,
    "editable": true
   },
   "outputs": [],
   "source": [
    "import keras\n",
    "from keras.utils import plot_model\n",
    "from keras.models import Sequential\n",
    "from keras.layers import Dense, Dropout, Flatten, LeakyReLU\n",
    "from keras.layers import Conv2D, MaxPooling2D\n",
    "from keras import backend as K\n",
    "import csv\n",
    "import numpy as np\n",
    "import random\n",
    "from sklearn.metrics import confusion_matrix\n",
    "import matplotlib.pyplot as plt\n",
    "import itertools\n",
    "from PIL import Image\n",
    "from vis.utils import utils\n",
    "from keras import activations\n",
    "from vis.visualization import visualize_saliency, overlay\n",
    "%matplotlib inline\n",
    "from matplotlib import cm\n",
    "from vis.visualization import visualize_cam\n",
    "from keras import backend as K\n",
    "from scipy.misc import imsave\n",
    "import time"
   ]
  },
  {
   "cell_type": "markdown",
   "metadata": {
    "deletable": true,
    "editable": true
   },
   "source": [
    "### load training data"
   ]
  },
  {
   "cell_type": "code",
   "execution_count": 6,
   "metadata": {
    "collapsed": false,
    "deletable": true,
    "editable": true
   },
   "outputs": [
    {
     "name": "stdout",
     "output_type": "stream",
     "text": [
      "(28709, 48, 48, 1)\n",
      "(28709, 7)\n"
     ]
    }
   ],
   "source": [
    "x_train = [] # [ [len 2304], [len 2304], [len 2304] ]\n",
    "y_train = [] # [ y1, y2, y3]\n",
    "with open('deepq_upload/train.csv', 'rt', encoding='big5') as csvfile:\n",
    "    reader = csv.reader(csvfile, delimiter=',')\n",
    "    row1 = next(reader) # skip headings\n",
    "    for idx, row in enumerate(reader):\n",
    "        img_data = [int(i) for i in row[1].split(' ')]\n",
    "        x_train.append(img_data)\n",
    "        y_train.append(int(row[0]))\n",
    "\n",
    "x_train = np.array(x_train)\n",
    "y_train = np.array(y_train)\n",
    "\n",
    "img_rows, img_cols = 48, 48\n",
    "num_classes = 7\n",
    "input_shape = (img_rows, img_cols, 1)\n",
    "\n",
    "x_train = x_train.reshape(x_train.shape[0], img_rows, img_cols, 1)\n",
    "x_train = x_train.astype('float32')\n",
    "x_train /= 255\n",
    "\n",
    "y_train = keras.utils.to_categorical(y_train, num_classes)\n",
    "\n",
    "print(x_train.shape)\n",
    "print(y_train.shape)"
   ]
  },
  {
   "cell_type": "code",
   "execution_count": 30,
   "metadata": {
    "collapsed": false,
    "deletable": true,
    "editable": true
   },
   "outputs": [
    {
     "name": "stdout",
     "output_type": "stream",
     "text": [
      "(28709, 48, 48, 1)\n"
     ]
    }
   ],
   "source": [
    "print(x_train.shape)"
   ]
  },
  {
   "cell_type": "code",
   "execution_count": 12,
   "metadata": {
    "collapsed": true,
    "deletable": true,
    "editable": true
   },
   "outputs": [],
   "source": [
    "x_train = x_train.reshape(x_train.shape[0], img_rows*img_cols)"
   ]
  },
  {
   "cell_type": "code",
   "execution_count": null,
   "metadata": {
    "collapsed": true,
    "deletable": true,
    "editable": true
   },
   "outputs": [],
   "source": [
    "print(x_train[0])"
   ]
  },
  {
   "cell_type": "markdown",
   "metadata": {
    "deletable": true,
    "editable": true
   },
   "source": [
    "### train model"
   ]
  },
  {
   "cell_type": "code",
   "execution_count": 18,
   "metadata": {
    "collapsed": false,
    "deletable": true,
    "editable": true
   },
   "outputs": [
    {
     "name": "stdout",
     "output_type": "stream",
     "text": [
      "Train on 25838 samples, validate on 2871 samples\n",
      "Epoch 1/200\n",
      "25838/25838 [==============================] - 2s - loss: 1.8910 - acc: 0.2174 - val_loss: 1.8421 - val_acc: 0.2483\n",
      "Epoch 2/200\n",
      "25838/25838 [==============================] - 2s - loss: 1.8360 - acc: 0.2453 - val_loss: 1.8142 - val_acc: 0.2483\n",
      "Epoch 3/200\n",
      "25838/25838 [==============================] - 2s - loss: 1.8245 - acc: 0.2472 - val_loss: 1.8117 - val_acc: 0.2483\n",
      "Epoch 4/200\n",
      "25838/25838 [==============================] - 2s - loss: 1.8162 - acc: 0.2492 - val_loss: 1.7982 - val_acc: 0.2483\n",
      "Epoch 5/200\n",
      "25838/25838 [==============================] - 2s - loss: 1.8069 - acc: 0.2519 - val_loss: 1.7806 - val_acc: 0.2483\n",
      "Epoch 6/200\n",
      "25838/25838 [==============================] - 2s - loss: 1.8046 - acc: 0.2498 - val_loss: 1.7754 - val_acc: 0.2483\n",
      "Epoch 7/200\n",
      "25838/25838 [==============================] - 2s - loss: 1.7968 - acc: 0.2522 - val_loss: 1.7708 - val_acc: 0.2483\n",
      "Epoch 8/200\n",
      "25838/25838 [==============================] - 2s - loss: 1.7901 - acc: 0.2535 - val_loss: 1.7569 - val_acc: 0.2483\n",
      "Epoch 9/200\n",
      "25838/25838 [==============================] - 2s - loss: 1.7855 - acc: 0.2550 - val_loss: 1.7569 - val_acc: 0.2717\n",
      "Epoch 10/200\n",
      "25838/25838 [==============================] - 1s - loss: 1.7783 - acc: 0.2633 - val_loss: 1.7468 - val_acc: 0.2755\n",
      "Epoch 11/200\n",
      "25838/25838 [==============================] - 1s - loss: 1.7786 - acc: 0.2621 - val_loss: 1.7635 - val_acc: 0.2699\n",
      "Epoch 12/200\n",
      "25838/25838 [==============================] - 1s - loss: 1.7736 - acc: 0.2670 - val_loss: 1.7523 - val_acc: 0.2783\n",
      "Epoch 13/200\n",
      "25838/25838 [==============================] - 1s - loss: 1.7709 - acc: 0.2711 - val_loss: 1.7440 - val_acc: 0.2766\n",
      "Epoch 14/200\n",
      "25838/25838 [==============================] - 2s - loss: 1.7687 - acc: 0.2736 - val_loss: 1.7499 - val_acc: 0.2811\n",
      "Epoch 15/200\n",
      "25838/25838 [==============================] - 1s - loss: 1.7672 - acc: 0.2700 - val_loss: 1.7480 - val_acc: 0.2769\n",
      "Epoch 16/200\n",
      "25838/25838 [==============================] - 2s - loss: 1.7667 - acc: 0.2738 - val_loss: 1.7474 - val_acc: 0.2804\n",
      "Epoch 17/200\n",
      "25838/25838 [==============================] - 2s - loss: 1.7640 - acc: 0.2705 - val_loss: 1.7387 - val_acc: 0.2780\n",
      "Epoch 18/200\n",
      "25838/25838 [==============================] - 2s - loss: 1.7627 - acc: 0.2740 - val_loss: 1.7469 - val_acc: 0.2793\n",
      "Epoch 19/200\n",
      "25838/25838 [==============================] - 1s - loss: 1.7597 - acc: 0.2742 - val_loss: 1.7500 - val_acc: 0.2672\n",
      "Epoch 20/200\n",
      "25838/25838 [==============================] - 2s - loss: 1.7581 - acc: 0.2762 - val_loss: 1.7508 - val_acc: 0.2874\n",
      "Epoch 21/200\n",
      "25838/25838 [==============================] - 2s - loss: 1.7566 - acc: 0.2775 - val_loss: 1.7375 - val_acc: 0.2745\n",
      "Epoch 22/200\n",
      "25838/25838 [==============================] - 2s - loss: 1.7562 - acc: 0.2780 - val_loss: 1.7494 - val_acc: 0.2881\n",
      "Epoch 23/200\n",
      "25838/25838 [==============================] - 2s - loss: 1.7551 - acc: 0.2782 - val_loss: 1.7492 - val_acc: 0.2863\n",
      "Epoch 24/200\n",
      "25838/25838 [==============================] - 2s - loss: 1.7569 - acc: 0.2789 - val_loss: 1.7480 - val_acc: 0.2860\n",
      "Epoch 25/200\n",
      "25838/25838 [==============================] - 1s - loss: 1.7545 - acc: 0.2804 - val_loss: 1.7521 - val_acc: 0.2790\n",
      "Epoch 26/200\n",
      "25838/25838 [==============================] - 1s - loss: 1.7536 - acc: 0.2770 - val_loss: 1.7483 - val_acc: 0.2863\n",
      "Epoch 27/200\n",
      "25838/25838 [==============================] - 1s - loss: 1.7488 - acc: 0.2821 - val_loss: 1.7427 - val_acc: 0.2821\n",
      "Epoch 28/200\n",
      "25838/25838 [==============================] - 1s - loss: 1.7498 - acc: 0.2815 - val_loss: 1.7287 - val_acc: 0.3187\n",
      "Epoch 29/200\n",
      "25838/25838 [==============================] - 1s - loss: 1.7467 - acc: 0.2864 - val_loss: 1.7390 - val_acc: 0.3103\n",
      "Epoch 30/200\n",
      "25838/25838 [==============================] - 1s - loss: 1.7448 - acc: 0.2842 - val_loss: 1.7330 - val_acc: 0.2922\n",
      "Epoch 31/200\n",
      "25838/25838 [==============================] - 1s - loss: 1.7428 - acc: 0.2869 - val_loss: 1.7666 - val_acc: 0.2748\n",
      "Epoch 32/200\n",
      "25838/25838 [==============================] - 1s - loss: 1.7455 - acc: 0.2845 - val_loss: 1.7393 - val_acc: 0.3208\n",
      "Epoch 33/200\n",
      "25838/25838 [==============================] - 1s - loss: 1.7409 - acc: 0.2850 - val_loss: 1.7276 - val_acc: 0.3236\n",
      "Epoch 34/200\n",
      "25838/25838 [==============================] - 1s - loss: 1.7417 - acc: 0.2849 - val_loss: 1.7342 - val_acc: 0.3170\n",
      "Epoch 35/200\n",
      "25838/25838 [==============================] - 1s - loss: 1.7418 - acc: 0.2884 - val_loss: 1.7340 - val_acc: 0.3229\n",
      "Epoch 36/200\n",
      "25838/25838 [==============================] - 1s - loss: 1.7413 - acc: 0.2877 - val_loss: 1.7127 - val_acc: 0.3187\n",
      "Epoch 37/200\n",
      "25838/25838 [==============================] - 1s - loss: 1.7375 - acc: 0.2901 - val_loss: 1.7200 - val_acc: 0.3215\n",
      "Epoch 38/200\n",
      "25838/25838 [==============================] - 1s - loss: 1.7357 - acc: 0.2931 - val_loss: 1.7345 - val_acc: 0.3285\n",
      "Epoch 39/200\n",
      "25838/25838 [==============================] - 1s - loss: 1.7336 - acc: 0.2921 - val_loss: 1.7228 - val_acc: 0.3197\n",
      "Epoch 40/200\n",
      "25838/25838 [==============================] - 1s - loss: 1.7330 - acc: 0.2940 - val_loss: 1.7241 - val_acc: 0.3260\n",
      "Epoch 41/200\n",
      "25838/25838 [==============================] - 1s - loss: 1.7340 - acc: 0.2976 - val_loss: 1.7172 - val_acc: 0.3163\n",
      "Epoch 42/200\n",
      "25838/25838 [==============================] - 1s - loss: 1.7345 - acc: 0.2939 - val_loss: 1.7405 - val_acc: 0.3131\n",
      "Epoch 43/200\n",
      "25838/25838 [==============================] - 1s - loss: 1.7289 - acc: 0.2965 - val_loss: 1.7276 - val_acc: 0.3232\n",
      "Epoch 44/200\n",
      "25838/25838 [==============================] - 1s - loss: 1.7336 - acc: 0.2932 - val_loss: 1.7260 - val_acc: 0.3166\n",
      "Epoch 45/200\n",
      "25838/25838 [==============================] - 1s - loss: 1.7257 - acc: 0.3030 - val_loss: 1.7263 - val_acc: 0.3229\n",
      "Epoch 46/200\n",
      "25838/25838 [==============================] - 1s - loss: 1.7276 - acc: 0.2974 - val_loss: 1.7505 - val_acc: 0.3142\n",
      "Epoch 47/200\n",
      "25838/25838 [==============================] - 1s - loss: 1.7241 - acc: 0.3023 - val_loss: 1.7479 - val_acc: 0.3208\n",
      "Epoch 48/200\n",
      "25838/25838 [==============================] - 1s - loss: 1.7228 - acc: 0.3036 - val_loss: 1.7112 - val_acc: 0.3337\n",
      "Epoch 49/200\n",
      "25838/25838 [==============================] - 1s - loss: 1.7212 - acc: 0.3076 - val_loss: 1.7200 - val_acc: 0.3382\n",
      "Epoch 50/200\n",
      "25838/25838 [==============================] - 1s - loss: 1.7211 - acc: 0.3023 - val_loss: 1.7278 - val_acc: 0.3072\n",
      "Epoch 51/200\n",
      "25838/25838 [==============================] - 1s - loss: 1.7212 - acc: 0.3049 - val_loss: 1.7125 - val_acc: 0.3232\n",
      "Epoch 52/200\n",
      "25838/25838 [==============================] - 1s - loss: 1.7211 - acc: 0.3058 - val_loss: 1.7430 - val_acc: 0.3177\n",
      "Epoch 53/200\n",
      "25838/25838 [==============================] - 1s - loss: 1.7196 - acc: 0.3070 - val_loss: 1.6972 - val_acc: 0.3386\n",
      "Epoch 54/200\n",
      "25838/25838 [==============================] - 1s - loss: 1.7199 - acc: 0.3050 - val_loss: 1.7281 - val_acc: 0.3264\n",
      "Epoch 55/200\n",
      "25838/25838 [==============================] - 1s - loss: 1.7151 - acc: 0.3112 - val_loss: 1.7406 - val_acc: 0.2989\n",
      "Epoch 56/200\n",
      "25838/25838 [==============================] - 1s - loss: 1.7153 - acc: 0.3114 - val_loss: 1.7120 - val_acc: 0.3319\n",
      "Epoch 57/200\n",
      "25838/25838 [==============================] - 1s - loss: 1.7175 - acc: 0.3086 - val_loss: 1.7277 - val_acc: 0.3232\n",
      "Epoch 58/200\n",
      "25838/25838 [==============================] - 1s - loss: 1.7143 - acc: 0.3104 - val_loss: 1.7218 - val_acc: 0.3347\n",
      "Epoch 59/200\n",
      "25838/25838 [==============================] - 1s - loss: 1.7128 - acc: 0.3108 - val_loss: 1.7104 - val_acc: 0.3382\n",
      "Epoch 60/200\n",
      "25838/25838 [==============================] - 1s - loss: 1.7114 - acc: 0.3145 - val_loss: 1.7203 - val_acc: 0.3079\n",
      "Epoch 61/200\n",
      "25838/25838 [==============================] - 1s - loss: 1.7120 - acc: 0.3137 - val_loss: 1.6989 - val_acc: 0.3368\n",
      "Epoch 62/200\n",
      "25838/25838 [==============================] - 1s - loss: 1.7114 - acc: 0.3130 - val_loss: 1.7013 - val_acc: 0.3431\n",
      "Epoch 63/200\n",
      "25838/25838 [==============================] - 1s - loss: 1.7111 - acc: 0.3126 - val_loss: 1.7164 - val_acc: 0.3319\n",
      "Epoch 64/200\n",
      "25838/25838 [==============================] - 1s - loss: 1.7107 - acc: 0.3152 - val_loss: 1.7381 - val_acc: 0.2926\n",
      "Epoch 65/200\n",
      "25838/25838 [==============================] - 1s - loss: 1.7052 - acc: 0.3162 - val_loss: 1.7152 - val_acc: 0.3173\n",
      "Epoch 66/200\n",
      "25838/25838 [==============================] - 1s - loss: 1.7104 - acc: 0.3190 - val_loss: 1.7120 - val_acc: 0.3319\n",
      "Epoch 67/200\n",
      "25838/25838 [==============================] - 2s - loss: 1.7036 - acc: 0.3184 - val_loss: 1.7177 - val_acc: 0.3208\n",
      "Epoch 68/200\n",
      "25838/25838 [==============================] - 2s - loss: 1.7077 - acc: 0.3174 - val_loss: 1.6989 - val_acc: 0.3358\n",
      "Epoch 69/200\n",
      "25838/25838 [==============================] - 1s - loss: 1.7040 - acc: 0.3188 - val_loss: 1.7051 - val_acc: 0.3358\n",
      "Epoch 70/200\n",
      "25838/25838 [==============================] - 1s - loss: 1.7016 - acc: 0.3206 - val_loss: 1.7175 - val_acc: 0.3149\n",
      "Epoch 71/200\n",
      "25838/25838 [==============================] - 1s - loss: 1.7011 - acc: 0.3207 - val_loss: 1.6999 - val_acc: 0.3466\n",
      "Epoch 72/200\n",
      "25838/25838 [==============================] - 1s - loss: 1.7012 - acc: 0.3178 - val_loss: 1.7201 - val_acc: 0.3236\n",
      "Epoch 73/200\n",
      "25838/25838 [==============================] - 1s - loss: 1.7022 - acc: 0.3195 - val_loss: 1.7044 - val_acc: 0.3431\n",
      "Epoch 74/200\n",
      "25838/25838 [==============================] - 1s - loss: 1.6975 - acc: 0.3205 - val_loss: 1.6977 - val_acc: 0.3225\n",
      "Epoch 75/200\n",
      "25838/25838 [==============================] - 1s - loss: 1.6951 - acc: 0.3282 - val_loss: 1.6910 - val_acc: 0.3511\n",
      "Epoch 76/200\n",
      "25838/25838 [==============================] - 1s - loss: 1.6944 - acc: 0.3240 - val_loss: 1.7107 - val_acc: 0.3316\n",
      "Epoch 77/200\n",
      "25838/25838 [==============================] - 1s - loss: 1.6915 - acc: 0.3269 - val_loss: 1.6874 - val_acc: 0.3448\n",
      "Epoch 78/200\n",
      "25838/25838 [==============================] - 1s - loss: 1.6920 - acc: 0.3268 - val_loss: 1.6952 - val_acc: 0.3462\n",
      "Epoch 79/200\n",
      "25838/25838 [==============================] - 1s - loss: 1.6915 - acc: 0.3324 - val_loss: 1.6851 - val_acc: 0.3539\n",
      "Epoch 80/200\n",
      "25838/25838 [==============================] - 1s - loss: 1.6931 - acc: 0.3308 - val_loss: 1.7450 - val_acc: 0.2898\n",
      "Epoch 81/200\n",
      "25838/25838 [==============================] - 1s - loss: 1.6848 - acc: 0.3288 - val_loss: 1.6899 - val_acc: 0.3271\n",
      "Epoch 82/200\n",
      "25838/25838 [==============================] - 2s - loss: 1.6912 - acc: 0.3270 - val_loss: 1.7544 - val_acc: 0.2682\n",
      "Epoch 83/200\n",
      "25838/25838 [==============================] - 2s - loss: 1.6855 - acc: 0.3322 - val_loss: 1.6856 - val_acc: 0.3525\n",
      "Epoch 84/200\n",
      "25838/25838 [==============================] - 2s - loss: 1.6864 - acc: 0.3309 - val_loss: 1.6906 - val_acc: 0.3490\n",
      "Epoch 85/200\n",
      "25838/25838 [==============================] - 2s - loss: 1.6838 - acc: 0.3325 - val_loss: 1.6887 - val_acc: 0.3535\n",
      "Epoch 86/200\n",
      "25838/25838 [==============================] - 1s - loss: 1.6835 - acc: 0.3314 - val_loss: 1.6742 - val_acc: 0.3504\n",
      "Epoch 87/200\n",
      "25838/25838 [==============================] - 2s - loss: 1.6766 - acc: 0.3372 - val_loss: 1.6882 - val_acc: 0.3535\n",
      "Epoch 88/200\n",
      "25838/25838 [==============================] - 1s - loss: 1.6796 - acc: 0.3350 - val_loss: 1.6955 - val_acc: 0.3466\n",
      "Epoch 89/200\n",
      "25838/25838 [==============================] - 1s - loss: 1.6777 - acc: 0.3315 - val_loss: 1.6707 - val_acc: 0.3487\n",
      "Epoch 90/200\n",
      "25838/25838 [==============================] - 1s - loss: 1.6778 - acc: 0.3352 - val_loss: 1.7001 - val_acc: 0.3062\n",
      "Epoch 91/200\n",
      "25838/25838 [==============================] - 1s - loss: 1.6749 - acc: 0.3385 - val_loss: 1.6747 - val_acc: 0.3553\n",
      "Epoch 92/200\n",
      "25838/25838 [==============================] - 1s - loss: 1.6717 - acc: 0.3393 - val_loss: 1.6693 - val_acc: 0.3605\n",
      "Epoch 93/200\n",
      "25838/25838 [==============================] - 1s - loss: 1.6652 - acc: 0.3389 - val_loss: 1.6699 - val_acc: 0.3528\n",
      "Epoch 94/200\n",
      "25838/25838 [==============================] - 1s - loss: 1.6674 - acc: 0.3366 - val_loss: 1.6875 - val_acc: 0.3511\n",
      "Epoch 95/200\n",
      "25838/25838 [==============================] - 1s - loss: 1.6715 - acc: 0.3414 - val_loss: 1.6617 - val_acc: 0.3549\n",
      "Epoch 96/200\n",
      "25838/25838 [==============================] - 1s - loss: 1.6684 - acc: 0.3426 - val_loss: 1.6613 - val_acc: 0.3675\n",
      "Epoch 97/200\n",
      "25838/25838 [==============================] - 2s - loss: 1.6653 - acc: 0.3414 - val_loss: 1.6687 - val_acc: 0.3602\n",
      "Epoch 98/200\n",
      "25838/25838 [==============================] - 2s - loss: 1.6654 - acc: 0.3410 - val_loss: 1.6780 - val_acc: 0.3553\n",
      "Epoch 99/200\n",
      "25838/25838 [==============================] - 2s - loss: 1.6605 - acc: 0.3455 - val_loss: 1.6809 - val_acc: 0.3386\n",
      "Epoch 100/200\n",
      "25838/25838 [==============================] - 2s - loss: 1.6657 - acc: 0.3401 - val_loss: 1.6507 - val_acc: 0.3647\n",
      "Epoch 101/200\n",
      "25838/25838 [==============================] - 2s - loss: 1.6602 - acc: 0.3415 - val_loss: 1.6697 - val_acc: 0.3501\n",
      "Epoch 102/200\n",
      "25838/25838 [==============================] - 2s - loss: 1.6598 - acc: 0.3419 - val_loss: 1.7206 - val_acc: 0.3180\n",
      "Epoch 103/200\n",
      "25838/25838 [==============================] - 2s - loss: 1.6606 - acc: 0.3405 - val_loss: 1.6616 - val_acc: 0.3563\n",
      "Epoch 104/200\n",
      "25838/25838 [==============================] - 2s - loss: 1.6564 - acc: 0.3469 - val_loss: 1.6666 - val_acc: 0.3588\n",
      "Epoch 105/200\n",
      "25838/25838 [==============================] - 2s - loss: 1.6539 - acc: 0.3455 - val_loss: 1.6661 - val_acc: 0.3549\n",
      "Epoch 106/200\n",
      "25838/25838 [==============================] - 2s - loss: 1.6547 - acc: 0.3441 - val_loss: 1.6743 - val_acc: 0.3539\n",
      "Epoch 107/200\n",
      "25838/25838 [==============================] - 1s - loss: 1.6489 - acc: 0.3470 - val_loss: 1.6545 - val_acc: 0.3636\n",
      "Epoch 108/200\n",
      "25838/25838 [==============================] - 2s - loss: 1.6512 - acc: 0.3455 - val_loss: 1.6568 - val_acc: 0.3608\n",
      "Epoch 109/200\n",
      "25838/25838 [==============================] - 2s - loss: 1.6491 - acc: 0.3465 - val_loss: 1.6955 - val_acc: 0.3344\n",
      "Epoch 110/200\n",
      "25838/25838 [==============================] - 2s - loss: 1.6460 - acc: 0.3511 - val_loss: 1.6482 - val_acc: 0.3525\n",
      "Epoch 111/200\n",
      "25838/25838 [==============================] - 1s - loss: 1.6529 - acc: 0.3474 - val_loss: 1.6391 - val_acc: 0.3605\n",
      "Epoch 112/200\n",
      "25838/25838 [==============================] - 2s - loss: 1.6495 - acc: 0.3449 - val_loss: 1.6961 - val_acc: 0.3292\n",
      "Epoch 113/200\n",
      "25838/25838 [==============================] - 1s - loss: 1.6467 - acc: 0.3470 - val_loss: 1.6726 - val_acc: 0.3487\n",
      "Epoch 114/200\n",
      "25838/25838 [==============================] - 1s - loss: 1.6445 - acc: 0.3492 - val_loss: 1.6630 - val_acc: 0.3525\n",
      "Epoch 115/200\n",
      "25838/25838 [==============================] - 1s - loss: 1.6434 - acc: 0.3500 - val_loss: 1.6514 - val_acc: 0.3654\n",
      "Epoch 116/200\n",
      "25838/25838 [==============================] - 1s - loss: 1.6408 - acc: 0.3515 - val_loss: 1.6568 - val_acc: 0.3636\n",
      "Epoch 117/200\n",
      "25838/25838 [==============================] - 1s - loss: 1.6451 - acc: 0.3505 - val_loss: 1.6766 - val_acc: 0.3438\n",
      "Epoch 118/200\n",
      "25838/25838 [==============================] - 1s - loss: 1.6420 - acc: 0.3523 - val_loss: 1.6573 - val_acc: 0.3574\n",
      "Epoch 119/200\n",
      "25838/25838 [==============================] - 1s - loss: 1.6438 - acc: 0.3476 - val_loss: 1.6456 - val_acc: 0.3636\n",
      "Epoch 120/200\n",
      "25838/25838 [==============================] - 1s - loss: 1.6411 - acc: 0.3513 - val_loss: 1.6359 - val_acc: 0.3716\n",
      "Epoch 121/200\n",
      "25838/25838 [==============================] - 1s - loss: 1.6407 - acc: 0.3532 - val_loss: 1.6569 - val_acc: 0.3608\n",
      "Epoch 122/200\n",
      "25838/25838 [==============================] - 1s - loss: 1.6364 - acc: 0.3522 - val_loss: 1.6361 - val_acc: 0.3657\n",
      "Epoch 123/200\n",
      "25838/25838 [==============================] - 1s - loss: 1.6329 - acc: 0.3557 - val_loss: 1.6512 - val_acc: 0.3612\n",
      "Epoch 124/200\n",
      "25838/25838 [==============================] - 1s - loss: 1.6343 - acc: 0.3509 - val_loss: 1.6652 - val_acc: 0.3584\n",
      "Epoch 125/200\n",
      "25838/25838 [==============================] - 1s - loss: 1.6363 - acc: 0.3546 - val_loss: 1.6778 - val_acc: 0.3494\n",
      "Epoch 126/200\n",
      "25838/25838 [==============================] - 1s - loss: 1.6357 - acc: 0.3558 - val_loss: 1.6366 - val_acc: 0.3696\n",
      "Epoch 127/200\n",
      "25838/25838 [==============================] - 1s - loss: 1.6329 - acc: 0.3541 - val_loss: 1.6465 - val_acc: 0.3706\n",
      "Epoch 128/200\n",
      "25838/25838 [==============================] - 2s - loss: 1.6307 - acc: 0.3575 - val_loss: 1.6324 - val_acc: 0.3574\n",
      "Epoch 129/200\n",
      "25838/25838 [==============================] - 1s - loss: 1.6270 - acc: 0.3585 - val_loss: 1.6435 - val_acc: 0.3671\n",
      "Epoch 130/200\n",
      "25838/25838 [==============================] - 1s - loss: 1.6266 - acc: 0.3545 - val_loss: 1.6398 - val_acc: 0.3650\n",
      "Epoch 131/200\n",
      "25838/25838 [==============================] - 1s - loss: 1.6296 - acc: 0.3572 - val_loss: 1.6372 - val_acc: 0.3696\n",
      "Epoch 132/200\n",
      "25838/25838 [==============================] - 1s - loss: 1.6311 - acc: 0.3566 - val_loss: 1.6467 - val_acc: 0.3615\n",
      "Epoch 133/200\n",
      "25838/25838 [==============================] - 1s - loss: 1.6247 - acc: 0.3608 - val_loss: 1.6396 - val_acc: 0.3716\n",
      "Epoch 134/200\n",
      "25838/25838 [==============================] - 2s - loss: 1.6240 - acc: 0.3592 - val_loss: 1.6325 - val_acc: 0.3664\n",
      "Epoch 135/200\n",
      "25838/25838 [==============================] - 1s - loss: 1.6268 - acc: 0.3607 - val_loss: 1.6325 - val_acc: 0.3657\n",
      "Epoch 136/200\n",
      "25838/25838 [==============================] - 2s - loss: 1.6247 - acc: 0.3598 - val_loss: 1.6312 - val_acc: 0.3734\n",
      "Epoch 137/200\n",
      "25838/25838 [==============================] - 2s - loss: 1.6267 - acc: 0.3560 - val_loss: 1.6702 - val_acc: 0.3459\n",
      "Epoch 138/200\n",
      "25838/25838 [==============================] - 1s - loss: 1.6270 - acc: 0.3607 - val_loss: 1.6251 - val_acc: 0.3678\n",
      "Epoch 139/200\n",
      "25838/25838 [==============================] - 2s - loss: 1.6196 - acc: 0.3628 - val_loss: 1.6155 - val_acc: 0.3671\n",
      "Epoch 140/200\n",
      "25838/25838 [==============================] - 2s - loss: 1.6233 - acc: 0.3595 - val_loss: 1.6330 - val_acc: 0.3734\n",
      "Epoch 141/200\n",
      "25838/25838 [==============================] - 1s - loss: 1.6196 - acc: 0.3614 - val_loss: 1.6648 - val_acc: 0.3459\n",
      "Epoch 142/200\n",
      "25838/25838 [==============================] - 1s - loss: 1.6192 - acc: 0.3616 - val_loss: 1.6523 - val_acc: 0.3723\n",
      "Epoch 143/200\n",
      "25838/25838 [==============================] - 1s - loss: 1.6188 - acc: 0.3609 - val_loss: 1.6194 - val_acc: 0.3710\n",
      "Epoch 144/200\n",
      "25838/25838 [==============================] - 1s - loss: 1.6177 - acc: 0.3647 - val_loss: 1.6224 - val_acc: 0.3696\n",
      "Epoch 145/200\n",
      "25838/25838 [==============================] - 1s - loss: 1.6133 - acc: 0.3621 - val_loss: 1.6319 - val_acc: 0.3706\n",
      "Epoch 146/200\n",
      "25838/25838 [==============================] - 1s - loss: 1.6146 - acc: 0.3641 - val_loss: 1.6459 - val_acc: 0.3622\n",
      "Epoch 147/200\n",
      "25838/25838 [==============================] - 1s - loss: 1.6178 - acc: 0.3615 - val_loss: 1.6512 - val_acc: 0.3483\n",
      "Epoch 148/200\n",
      "25838/25838 [==============================] - 1s - loss: 1.6225 - acc: 0.3608 - val_loss: 1.6315 - val_acc: 0.3706\n",
      "Epoch 149/200\n",
      "25838/25838 [==============================] - 2s - loss: 1.6159 - acc: 0.3656 - val_loss: 1.6277 - val_acc: 0.3741\n",
      "Epoch 150/200\n",
      "25838/25838 [==============================] - 2s - loss: 1.6112 - acc: 0.3650 - val_loss: 1.6297 - val_acc: 0.3689\n",
      "Epoch 151/200\n",
      "25838/25838 [==============================] - 2s - loss: 1.6127 - acc: 0.3630 - val_loss: 1.6655 - val_acc: 0.3546\n",
      "Epoch 152/200\n",
      "25838/25838 [==============================] - 1s - loss: 1.6099 - acc: 0.3669 - val_loss: 1.6369 - val_acc: 0.3699\n",
      "Epoch 153/200\n",
      "25838/25838 [==============================] - 2s - loss: 1.6116 - acc: 0.3657 - val_loss: 1.6408 - val_acc: 0.3605\n",
      "Epoch 154/200\n",
      "25838/25838 [==============================] - 2s - loss: 1.6120 - acc: 0.3632 - val_loss: 1.6934 - val_acc: 0.3250\n",
      "Epoch 155/200\n",
      "25838/25838 [==============================] - 1s - loss: 1.6132 - acc: 0.3606 - val_loss: 1.6306 - val_acc: 0.3692\n",
      "Epoch 156/200\n",
      "25838/25838 [==============================] - 2s - loss: 1.6079 - acc: 0.3671 - val_loss: 1.6738 - val_acc: 0.3459\n",
      "Epoch 157/200\n",
      "25838/25838 [==============================] - 2s - loss: 1.6081 - acc: 0.3649 - val_loss: 1.6303 - val_acc: 0.3723\n",
      "Epoch 158/200\n",
      "25838/25838 [==============================] - 1s - loss: 1.6110 - acc: 0.3637 - val_loss: 1.6233 - val_acc: 0.3657\n",
      "Epoch 159/200\n",
      "25838/25838 [==============================] - 1s - loss: 1.6061 - acc: 0.3702 - val_loss: 1.6485 - val_acc: 0.3553\n",
      "Epoch 160/200\n",
      "25838/25838 [==============================] - 2s - loss: 1.6026 - acc: 0.3662 - val_loss: 1.6158 - val_acc: 0.3636\n",
      "Epoch 161/200\n",
      "25838/25838 [==============================] - 2s - loss: 1.6039 - acc: 0.3668 - val_loss: 1.6397 - val_acc: 0.3650\n",
      "Epoch 162/200\n",
      "25838/25838 [==============================] - 2s - loss: 1.6018 - acc: 0.3669 - val_loss: 1.6202 - val_acc: 0.3727\n",
      "Epoch 163/200\n",
      "25838/25838 [==============================] - 2s - loss: 1.6012 - acc: 0.3673 - val_loss: 1.6313 - val_acc: 0.3629\n",
      "Epoch 164/200\n",
      "25838/25838 [==============================] - 2s - loss: 1.6012 - acc: 0.3689 - val_loss: 1.6437 - val_acc: 0.3647\n",
      "Epoch 165/200\n",
      "25838/25838 [==============================] - 2s - loss: 1.5977 - acc: 0.3702 - val_loss: 1.6232 - val_acc: 0.3744\n",
      "Epoch 166/200\n",
      "25838/25838 [==============================] - 1s - loss: 1.5972 - acc: 0.3687 - val_loss: 1.6167 - val_acc: 0.3647\n",
      "Epoch 167/200\n",
      "25838/25838 [==============================] - 1s - loss: 1.6045 - acc: 0.3658 - val_loss: 1.6261 - val_acc: 0.3751\n",
      "Epoch 168/200\n",
      "25838/25838 [==============================] - 1s - loss: 1.6016 - acc: 0.3711 - val_loss: 1.6201 - val_acc: 0.3703\n",
      "Epoch 169/200\n",
      "25838/25838 [==============================] - 1s - loss: 1.5996 - acc: 0.3684 - val_loss: 1.6131 - val_acc: 0.3720\n",
      "Epoch 170/200\n",
      "25838/25838 [==============================] - 1s - loss: 1.5990 - acc: 0.3689 - val_loss: 1.6311 - val_acc: 0.3602\n",
      "Epoch 171/200\n",
      "25838/25838 [==============================] - 1s - loss: 1.5938 - acc: 0.3683 - val_loss: 1.6258 - val_acc: 0.3661\n",
      "Epoch 172/200\n",
      "25838/25838 [==============================] - 1s - loss: 1.5978 - acc: 0.3687 - val_loss: 1.6273 - val_acc: 0.3598\n",
      "Epoch 173/200\n",
      "25838/25838 [==============================] - 1s - loss: 1.5984 - acc: 0.3683 - val_loss: 1.6234 - val_acc: 0.3549\n",
      "Epoch 174/200\n",
      "25838/25838 [==============================] - 1s - loss: 1.5927 - acc: 0.3675 - val_loss: 1.6440 - val_acc: 0.3584\n",
      "Epoch 175/200\n",
      "25838/25838 [==============================] - 1s - loss: 1.6000 - acc: 0.3665 - val_loss: 1.6180 - val_acc: 0.3605\n",
      "Epoch 176/200\n",
      "25838/25838 [==============================] - 1s - loss: 1.5930 - acc: 0.3695 - val_loss: 1.6267 - val_acc: 0.3734\n",
      "Epoch 177/200\n",
      "25838/25838 [==============================] - 1s - loss: 1.5925 - acc: 0.3716 - val_loss: 1.6265 - val_acc: 0.3664\n",
      "Epoch 178/200\n",
      "25838/25838 [==============================] - 1s - loss: 1.5960 - acc: 0.3706 - val_loss: 1.6449 - val_acc: 0.3556\n",
      "Epoch 179/200\n",
      "25838/25838 [==============================] - 2s - loss: 1.5910 - acc: 0.3717 - val_loss: 1.6325 - val_acc: 0.3574\n",
      "Epoch 180/200\n",
      "25838/25838 [==============================] - 1s - loss: 1.5853 - acc: 0.3746 - val_loss: 1.6176 - val_acc: 0.3647\n",
      "Epoch 181/200\n",
      "25838/25838 [==============================] - 2s - loss: 1.5942 - acc: 0.3726 - val_loss: 1.6190 - val_acc: 0.3682\n",
      "Epoch 182/200\n",
      "25838/25838 [==============================] - 1s - loss: 1.5916 - acc: 0.3700 - val_loss: 1.6191 - val_acc: 0.3723\n",
      "Epoch 183/200\n",
      "25838/25838 [==============================] - 1s - loss: 1.5897 - acc: 0.3708 - val_loss: 1.6368 - val_acc: 0.3647\n",
      "Epoch 184/200\n",
      "25838/25838 [==============================] - 1s - loss: 1.5909 - acc: 0.3711 - val_loss: 1.6190 - val_acc: 0.3678\n",
      "Epoch 185/200\n",
      "25838/25838 [==============================] - 1s - loss: 1.5924 - acc: 0.3724 - val_loss: 1.6146 - val_acc: 0.3706\n",
      "Epoch 186/200\n",
      "25838/25838 [==============================] - 1s - loss: 1.5859 - acc: 0.3732 - val_loss: 1.6163 - val_acc: 0.3647\n",
      "Epoch 187/200\n",
      "25838/25838 [==============================] - 1s - loss: 1.5877 - acc: 0.3758 - val_loss: 1.6184 - val_acc: 0.3737\n",
      "Epoch 188/200\n",
      "25838/25838 [==============================] - 1s - loss: 1.5847 - acc: 0.3755 - val_loss: 1.6078 - val_acc: 0.3696\n",
      "Epoch 189/200\n",
      "25838/25838 [==============================] - 1s - loss: 1.5869 - acc: 0.3739 - val_loss: 1.6130 - val_acc: 0.3741\n",
      "Epoch 190/200\n",
      "25838/25838 [==============================] - 2s - loss: 1.5866 - acc: 0.3762 - val_loss: 1.6252 - val_acc: 0.3741\n",
      "Epoch 191/200\n",
      "25838/25838 [==============================] - 1s - loss: 1.5820 - acc: 0.3767 - val_loss: 1.6210 - val_acc: 0.3678\n",
      "Epoch 192/200\n",
      "25838/25838 [==============================] - 1s - loss: 1.5818 - acc: 0.3785 - val_loss: 1.6395 - val_acc: 0.3643\n",
      "Epoch 193/200\n",
      "25838/25838 [==============================] - 1s - loss: 1.5848 - acc: 0.3746 - val_loss: 1.6252 - val_acc: 0.3563\n",
      "Epoch 194/200\n",
      "25838/25838 [==============================] - 1s - loss: 1.5810 - acc: 0.3768 - val_loss: 1.6082 - val_acc: 0.3758\n",
      "Epoch 195/200\n",
      "25838/25838 [==============================] - 2s - loss: 1.5864 - acc: 0.3739 - val_loss: 1.6123 - val_acc: 0.3727\n",
      "Epoch 196/200\n",
      "25838/25838 [==============================] - 1s - loss: 1.5871 - acc: 0.3751 - val_loss: 1.6124 - val_acc: 0.3675\n",
      "Epoch 197/200\n",
      "25838/25838 [==============================] - 1s - loss: 1.5798 - acc: 0.3781 - val_loss: 1.6030 - val_acc: 0.3727\n",
      "Epoch 198/200\n",
      "25838/25838 [==============================] - 1s - loss: 1.5855 - acc: 0.3765 - val_loss: 1.6180 - val_acc: 0.3716\n",
      "Epoch 199/200\n",
      "25838/25838 [==============================] - 1s - loss: 1.5808 - acc: 0.3791 - val_loss: 1.6122 - val_acc: 0.3689\n",
      "Epoch 200/200\n",
      "25838/25838 [==============================] - 1s - loss: 1.5797 - acc: 0.3762 - val_loss: 1.6109 - val_acc: 0.3696\n"
     ]
    },
    {
     "data": {
      "text/plain": [
       "\"score = model.evaluate(x_test, y_test, verbose=0)\\nprint('Test loss:', score[0])\\nprint('Test accuracy:', score[1])\""
      ]
     },
     "execution_count": 18,
     "metadata": {},
     "output_type": "execute_result"
    }
   ],
   "source": [
    "batch_size = 128\n",
    "epochs = 200\n",
    "\n",
    "model = Sequential()\n",
    "\n",
    "model.add(Dense(112, activation='relu', input_shape=(48*48,)))\n",
    "model.add(Dropout(0.25))\n",
    "model.add(Dense(112, activation='relu'))\n",
    "model.add(Dropout(0.25))\n",
    "model.add(Dense(112, activation='relu'))\n",
    "model.add(Dropout(0.25))\n",
    "\n",
    "model.add(Dense(128, activation='relu'))\n",
    "model.add(Dropout(0.5))\n",
    "model.add(Dense(64, activation='relu'))\n",
    "model.add(Dropout(0.5))\n",
    "model.add(Dense(64, activation='relu'))\n",
    "model.add(Dropout(0.5))\n",
    "\n",
    "model.add(Dense(num_classes, activation='softmax'))\n",
    "\n",
    "model.compile(loss=keras.losses.categorical_crossentropy,\n",
    "              optimizer=keras.optimizers.Adadelta(),\n",
    "              metrics=['accuracy'])\n",
    "\n",
    "early_stop = keras.callbacks.EarlyStopping(monitor='val_loss', min_delta=0, patience=0, verbose=0, mode='auto')\n",
    "for_tensorboard = keras.callbacks.TensorBoard(log_dir='./logs', histogram_freq=0, batch_size=batch_size,\\\n",
    "                                              write_graph=True,\\\n",
    "                                              write_grads=False, write_images=False, embeddings_freq=0,\\\n",
    "                                              embeddings_layer_names=None, embeddings_metadata=None)\n",
    "\n",
    "model.fit(x = x_train,\n",
    "        y = y_train,\n",
    "        batch_size=batch_size,\n",
    "        epochs=epochs,\n",
    "        verbose=1,\n",
    "        validation_split=0.1,\n",
    "        callbacks=[for_tensorboard]) # validation data is not shuffled each time\n",
    "'''score = model.evaluate(x_test, y_test, verbose=0)\n",
    "print('Test loss:', score[0])\n",
    "print('Test accuracy:', score[1])'''"
   ]
  },
  {
   "cell_type": "code",
   "execution_count": 19,
   "metadata": {
    "collapsed": false,
    "deletable": true,
    "editable": true
   },
   "outputs": [
    {
     "ename": "NameError",
     "evalue": "name 'x_test' is not defined",
     "output_type": "error",
     "traceback": [
      "\u001b[0;31m---------------------------------------------------------------------------\u001b[0m",
      "\u001b[0;31mNameError\u001b[0m                                 Traceback (most recent call last)",
      "\u001b[0;32m<ipython-input-19-cc742971e56d>\u001b[0m in \u001b[0;36m<module>\u001b[0;34m()\u001b[0m\n\u001b[0;32m----> 1\u001b[0;31m \u001b[0mscore\u001b[0m \u001b[0;34m=\u001b[0m \u001b[0mmodel\u001b[0m\u001b[0;34m.\u001b[0m\u001b[0mevaluate\u001b[0m\u001b[0;34m(\u001b[0m\u001b[0mx_test\u001b[0m\u001b[0;34m,\u001b[0m \u001b[0my_test\u001b[0m\u001b[0;34m,\u001b[0m \u001b[0mverbose\u001b[0m\u001b[0;34m=\u001b[0m\u001b[0;36m0\u001b[0m\u001b[0;34m)\u001b[0m\u001b[0;34m\u001b[0m\u001b[0m\n\u001b[0m\u001b[1;32m      2\u001b[0m \u001b[0mprint\u001b[0m\u001b[0;34m(\u001b[0m\u001b[0;34m'Test loss:'\u001b[0m\u001b[0;34m,\u001b[0m \u001b[0mscore\u001b[0m\u001b[0;34m[\u001b[0m\u001b[0;36m0\u001b[0m\u001b[0;34m]\u001b[0m\u001b[0;34m)\u001b[0m\u001b[0;34m\u001b[0m\u001b[0m\n\u001b[1;32m      3\u001b[0m \u001b[0mprint\u001b[0m\u001b[0;34m(\u001b[0m\u001b[0;34m'Test accuracy:'\u001b[0m\u001b[0;34m,\u001b[0m \u001b[0mscore\u001b[0m\u001b[0;34m[\u001b[0m\u001b[0;36m1\u001b[0m\u001b[0;34m]\u001b[0m\u001b[0;34m)\u001b[0m\u001b[0;34m\u001b[0m\u001b[0m\n",
      "\u001b[0;31mNameError\u001b[0m: name 'x_test' is not defined"
     ]
    }
   ],
   "source": [
    "score = model.evaluate(x_test, y_test, verbose=0)\n",
    "print('Test loss:', score[0])\n",
    "print('Test accuracy:', score[1])"
   ]
  },
  {
   "cell_type": "markdown",
   "metadata": {
    "deletable": true,
    "editable": true
   },
   "source": [
    "## read test data"
   ]
  },
  {
   "cell_type": "code",
   "execution_count": 4,
   "metadata": {
    "collapsed": false,
    "deletable": true,
    "editable": true
   },
   "outputs": [
    {
     "name": "stdout",
     "output_type": "stream",
     "text": [
      "new shape (7178, 48, 48, 1)\n"
     ]
    }
   ],
   "source": [
    "x_submission = []\n",
    "\n",
    "with open('data/test.csv', 'rt', encoding='big5') as csvfile:\n",
    "    reader = csv.reader(csvfile, delimiter=',')\n",
    "    row1 = next(reader) # skip headings\n",
    "    for idx, row in enumerate(reader):\n",
    "        img_data = [int(i) for i in row[1].split(' ')]\n",
    "        x_submission.append(img_data)\n",
    "\n",
    "x_submission = np.array(x_submission)\n",
    "x_submission = x_submission.reshape(x_submission.shape[0], img_rows, img_cols, 1)\n",
    "print('new shape', x_submission.shape)\n",
    "x_submission = x_submission.astype('float32')\n",
    "x_submission /= 255"
   ]
  },
  {
   "cell_type": "markdown",
   "metadata": {
    "deletable": true,
    "editable": true
   },
   "source": [
    "## load model and generate predictions"
   ]
  },
  {
   "cell_type": "code",
   "execution_count": 87,
   "metadata": {
    "collapsed": false,
    "deletable": true,
    "editable": true
   },
   "outputs": [
    {
     "name": "stdout",
     "output_type": "stream",
     "text": [
      "loaded model!\n"
     ]
    }
   ],
   "source": [
    "loaded_model = keras.models.load_model('200.hdf5') # current best is 200.hdf5 (passed simple baseline)\n",
    "print('loaded model!')"
   ]
  },
  {
   "cell_type": "code",
   "execution_count": 21,
   "metadata": {
    "collapsed": true,
    "deletable": true,
    "editable": true
   },
   "outputs": [],
   "source": [
    "plot_model(model, to_file='model_ff_pic.png', show_shapes=True)"
   ]
  },
  {
   "cell_type": "code",
   "execution_count": null,
   "metadata": {
    "collapsed": true,
    "deletable": true,
    "editable": true
   },
   "outputs": [],
   "source": [
    "pred = loaded_model.predict(x_submission, batch_size=1)\n",
    "pred_to_category_num = [np.argmax(i) for i in pred]\n",
    "print('generated test predictions!')"
   ]
  },
  {
   "cell_type": "code",
   "execution_count": 32,
   "metadata": {
    "collapsed": false,
    "deletable": true,
    "editable": true
   },
   "outputs": [
    {
     "name": "stdout",
     "output_type": "stream",
     "text": [
      "generated valid predictions!\n"
     ]
    }
   ],
   "source": [
    "pred = loaded_model.predict(x_train[-2871:], batch_size=1)\n",
    "pred_to_category_num = [np.argmax(i) for i in pred]\n",
    "print('generated valid predictions!')"
   ]
  },
  {
   "cell_type": "markdown",
   "metadata": {
    "deletable": true,
    "editable": true
   },
   "source": [
    "## visualizing filters"
   ]
  },
  {
   "cell_type": "code",
   "execution_count": 34,
   "metadata": {
    "collapsed": true,
    "deletable": true,
    "editable": true
   },
   "outputs": [],
   "source": [
    "img_width = 48\n",
    "img_height = 48"
   ]
  },
  {
   "cell_type": "code",
   "execution_count": 3,
   "metadata": {
    "collapsed": true,
    "deletable": true,
    "editable": true
   },
   "outputs": [],
   "source": [
    "def deprocess_image(x):\n",
    "    # normalize tensor: center on 0., ensure std is 0.1\n",
    "    x -= x.mean()\n",
    "    x /= (x.std() + 1e-5)\n",
    "    x *= 0.1\n",
    "\n",
    "    # clip to [0, 1]\n",
    "    x += 0.5\n",
    "    x = np.clip(x, 0, 1)\n",
    "\n",
    "    # convert to RGB array\n",
    "    x *= 255\n",
    "    if K.image_data_format() == 'channels_first':\n",
    "        x = x.transpose((1, 2, 0))\n",
    "    x = np.clip(x, 0, 255).astype('uint8')\n",
    "    return x\n",
    "\n",
    "def normalize(x):\n",
    "    # utility function to normalize a tensor by its L2 norm\n",
    "    return x / (K.sqrt(K.mean(K.square(x))) + 1e-5)"
   ]
  },
  {
   "cell_type": "code",
   "execution_count": 89,
   "metadata": {
    "collapsed": false,
    "deletable": true,
    "editable": true
   },
   "outputs": [],
   "source": [
    "loaded_model.layers = [loaded_model.layers[i] for i in [0,1,2,4,5,7,8,10,11,13,15,17]]"
   ]
  },
  {
   "cell_type": "code",
   "execution_count": 170,
   "metadata": {
    "collapsed": false,
    "deletable": true,
    "editable": true
   },
   "outputs": [
    {
     "data": {
      "text/plain": [
       "[<keras.layers.convolutional.Conv2D at 0x125fa5630>,\n",
       " <keras.layers.convolutional.Conv2D at 0x126016fd0>,\n",
       " <keras.layers.pooling.MaxPooling2D at 0x125fb4eb8>,\n",
       " <keras.layers.convolutional.Conv2D at 0x126016908>,\n",
       " <keras.layers.pooling.MaxPooling2D at 0x126034f28>,\n",
       " <keras.layers.convolutional.Conv2D at 0x11cb9a6a0>,\n",
       " <keras.layers.pooling.MaxPooling2D at 0x12ed6cda0>,\n",
       " <keras.layers.core.Flatten at 0x125ffee48>,\n",
       " <keras.layers.core.Dense at 0x12e9cf898>,\n",
       " <keras.layers.core.Dense at 0x115b13e80>,\n",
       " <keras.layers.core.Dense at 0x12e983eb8>,\n",
       " <keras.layers.core.Dense at 0x1233885c0>]"
      ]
     },
     "execution_count": 170,
     "metadata": {},
     "output_type": "execute_result"
    }
   ],
   "source": [
    "loaded_model.layers"
   ]
  },
  {
   "cell_type": "code",
   "execution_count": 91,
   "metadata": {
    "collapsed": true,
    "deletable": true,
    "editable": true
   },
   "outputs": [],
   "source": [
    "layer_dict = dict([(layer.name, layer) for layer in loaded_model.layers])"
   ]
  },
  {
   "cell_type": "code",
   "execution_count": 171,
   "metadata": {
    "collapsed": false,
    "deletable": true,
    "editable": true
   },
   "outputs": [
    {
     "data": {
      "text/plain": [
       "{'conv2d_1': <keras.layers.convolutional.Conv2D at 0x125fa5630>,\n",
       " 'conv2d_2': <keras.layers.convolutional.Conv2D at 0x126016fd0>,\n",
       " 'conv2d_3': <keras.layers.convolutional.Conv2D at 0x126016908>,\n",
       " 'conv2d_4': <keras.layers.convolutional.Conv2D at 0x11cb9a6a0>,\n",
       " 'dense_1': <keras.layers.core.Dense at 0x12e9cf898>,\n",
       " 'dense_2': <keras.layers.core.Dense at 0x115b13e80>,\n",
       " 'dense_3': <keras.layers.core.Dense at 0x12e983eb8>,\n",
       " 'dense_4': <keras.layers.core.Dense at 0x1233885c0>,\n",
       " 'flatten_1': <keras.layers.core.Flatten at 0x125ffee48>,\n",
       " 'max_pooling2d_1': <keras.layers.pooling.MaxPooling2D at 0x125fb4eb8>,\n",
       " 'max_pooling2d_2': <keras.layers.pooling.MaxPooling2D at 0x126034f28>,\n",
       " 'max_pooling2d_3': <keras.layers.pooling.MaxPooling2D at 0x12ed6cda0>}"
      ]
     },
     "execution_count": 171,
     "metadata": {},
     "output_type": "execute_result"
    }
   ],
   "source": [
    "layer_dict"
   ]
  },
  {
   "cell_type": "code",
   "execution_count": 281,
   "metadata": {
    "collapsed": false,
    "deletable": true,
    "editable": true
   },
   "outputs": [
    {
     "data": {
      "text/plain": [
       "<tf.Tensor 'strided_slice_1247:0' shape=(?, 8, 8) dtype=float32>"
      ]
     },
     "execution_count": 281,
     "metadata": {},
     "output_type": "execute_result"
    }
   ],
   "source": [
    "layer_dict['conv2d_4'].output[:,:,:,0]"
   ]
  },
  {
   "cell_type": "code",
   "execution_count": 51,
   "metadata": {
    "collapsed": false,
    "deletable": true,
    "editable": true
   },
   "outputs": [
    {
     "data": {
      "text/plain": [
       "<tf.Tensor 'conv2d_1_input:0' shape=(?, 48, 48, 1) dtype=float32>"
      ]
     },
     "execution_count": 51,
     "metadata": {},
     "output_type": "execute_result"
    }
   ],
   "source": [
    "loaded_model.input"
   ]
  },
  {
   "cell_type": "markdown",
   "metadata": {
    "deletable": true,
    "editable": true
   },
   "source": [
    "## generate heatmap of convolution filters"
   ]
  },
  {
   "cell_type": "code",
   "execution_count": 353,
   "metadata": {
    "collapsed": false,
    "deletable": true,
    "editable": true,
    "scrolled": false
   },
   "outputs": [
    {
     "name": "stdout",
     "output_type": "stream",
     "text": [
      "Processing filter 0\n",
      "Current loss value: 0.115189\n",
      "Filter 0 processed in 3s\n",
      "Processing filter 1\n",
      "Current loss value: 0.838343\n",
      "Filter 1 processed in 3s\n",
      "Processing filter 2\n",
      "Current loss value: 8.78525\n",
      "Filter 2 processed in 1s\n",
      "Processing filter 3\n",
      "Current loss value: 2.20474\n",
      "Filter 3 processed in 1s\n",
      "Processing filter 4\n",
      "Current loss value: 0.375726\n",
      "Filter 4 processed in 2s\n",
      "Processing filter 5\n",
      "Current loss value: 0.939074\n",
      "Filter 5 processed in 1s\n",
      "Processing filter 6\n",
      "Current loss value: 1.37789\n",
      "Filter 6 processed in 2s\n",
      "Processing filter 7\n",
      "Current loss value: 0.0\n",
      "Filter 7 processed in 1s\n",
      "Processing filter 8\n",
      "Current loss value: 1.09898\n",
      "Filter 8 processed in 1s\n",
      "Processing filter 9\n",
      "Current loss value: 2.24141\n",
      "Filter 9 processed in 2s\n",
      "Processing filter 10\n",
      "Current loss value: 0.115992\n",
      "Filter 10 processed in 2s\n",
      "Processing filter 11\n",
      "Current loss value: 1.42927\n",
      "Filter 11 processed in 1s\n",
      "Processing filter 12\n",
      "Current loss value: 3.04143\n",
      "Filter 12 processed in 1s\n",
      "Processing filter 13\n",
      "Current loss value: 0.073258\n",
      "Filter 13 processed in 1s\n",
      "Processing filter 14\n",
      "Current loss value: 3.78108\n",
      "Filter 14 processed in 1s\n",
      "Processing filter 15\n",
      "Current loss value: 3.1459\n",
      "Filter 15 processed in 2s\n",
      "Processing filter 16\n",
      "Current loss value: 8.50848\n",
      "Filter 16 processed in 1s\n",
      "Processing filter 17\n",
      "Current loss value: 1.02937\n",
      "Filter 17 processed in 2s\n",
      "Processing filter 18\n",
      "Current loss value: 1.53265\n",
      "Filter 18 processed in 2s\n",
      "Processing filter 19\n",
      "Current loss value: 1.72427\n",
      "Filter 19 processed in 2s\n",
      "Processing filter 20\n",
      "Current loss value: 2.69363\n",
      "Filter 20 processed in 2s\n",
      "Processing filter 21\n",
      "Current loss value: 1.52885\n",
      "Filter 21 processed in 2s\n",
      "Processing filter 22\n",
      "Current loss value: 2.03136\n",
      "Filter 22 processed in 1s\n",
      "Processing filter 23\n",
      "Current loss value: 0.854247\n",
      "Filter 23 processed in 1s\n",
      "Processing filter 24\n",
      "Current loss value: 0.0679196\n",
      "Filter 24 processed in 1s\n",
      "Processing filter 25\n",
      "Current loss value: 0.0\n",
      "Filter 25 processed in 1s\n",
      "Processing filter 26\n",
      "Current loss value: 0.661227\n",
      "Filter 26 processed in 1s\n",
      "Processing filter 27\n",
      "Current loss value: 1.83549\n",
      "Filter 27 processed in 1s\n",
      "Processing filter 28\n",
      "Current loss value: 1.57345\n",
      "Filter 28 processed in 1s\n",
      "Processing filter 29\n",
      "Current loss value: 0.0683732\n",
      "Filter 29 processed in 1s\n",
      "Processing filter 30\n",
      "Current loss value: 0.329087\n",
      "Filter 30 processed in 2s\n",
      "Processing filter 31\n",
      "Current loss value: 0.000288121\n",
      "Filter 31 processed in 2s\n",
      "Processing filter 32\n",
      "Current loss value: 3.00737\n",
      "Filter 32 processed in 2s\n",
      "Processing filter 33\n",
      "Current loss value: 12.1859\n",
      "Filter 33 processed in 2s\n",
      "Processing filter 34\n",
      "Current loss value: 1.70161\n",
      "Filter 34 processed in 2s\n",
      "Processing filter 35\n",
      "Current loss value: 0.00608547\n",
      "Filter 35 processed in 2s\n",
      "Processing filter 36\n",
      "Current loss value: 0.000215988\n",
      "Filter 36 processed in 2s\n",
      "Processing filter 37\n",
      "Current loss value: 0.549078\n",
      "Filter 37 processed in 2s\n",
      "Processing filter 38\n",
      "Current loss value: 0.507364\n",
      "Filter 38 processed in 1s\n",
      "Processing filter 39\n",
      "Current loss value: 2.51856\n",
      "Filter 39 processed in 1s\n",
      "Processing filter 40\n",
      "Current loss value: 25.0738\n",
      "Filter 40 processed in 2s\n",
      "Processing filter 41\n",
      "Current loss value: 0.0108127\n",
      "Filter 41 processed in 2s\n",
      "Processing filter 42\n",
      "Current loss value: 8.73789\n",
      "Filter 42 processed in 2s\n",
      "Processing filter 43\n",
      "Current loss value: 2.14291\n",
      "Filter 43 processed in 2s\n",
      "Processing filter 44\n",
      "Current loss value: 11.5201\n",
      "Filter 44 processed in 1s\n",
      "Processing filter 45\n",
      "Current loss value: 0.885466\n",
      "Filter 45 processed in 1s\n",
      "Processing filter 46\n",
      "Current loss value: 0.565431\n",
      "Filter 46 processed in 1s\n",
      "Processing filter 47\n",
      "Current loss value: 5.23737\n",
      "Filter 47 processed in 1s\n",
      "Processing filter 48\n",
      "Current loss value: 1.79703\n",
      "Filter 48 processed in 1s\n",
      "Processing filter 49\n",
      "Current loss value: 0.540283\n",
      "Filter 49 processed in 1s\n",
      "Processing filter 50\n",
      "Current loss value: 2.12357\n",
      "Filter 50 processed in 1s\n",
      "Processing filter 51\n",
      "Current loss value: 0.0\n",
      "Filter 51 processed in 1s\n",
      "Processing filter 52\n",
      "Current loss value: 0.125467\n",
      "Filter 52 processed in 1s\n",
      "Processing filter 53\n",
      "Current loss value: 5.42012\n",
      "Filter 53 processed in 1s\n",
      "Processing filter 54\n",
      "Current loss value: 0.0163837\n",
      "Filter 54 processed in 1s\n",
      "Processing filter 55\n",
      "Current loss value: 3.77365\n",
      "Filter 55 processed in 1s\n",
      "Processing filter 56\n",
      "Current loss value: 0.0\n",
      "Filter 56 processed in 1s\n",
      "Processing filter 57\n",
      "Current loss value: 4.67793\n",
      "Filter 57 processed in 1s\n",
      "Processing filter 58\n",
      "Current loss value: 0.217889\n",
      "Filter 58 processed in 1s\n",
      "Processing filter 59\n",
      "Current loss value: 0.00664403\n",
      "Filter 59 processed in 1s\n",
      "Processing filter 60\n",
      "Current loss value: 1.82116\n",
      "Filter 60 processed in 1s\n",
      "Processing filter 61\n",
      "Current loss value: 7.41597\n",
      "Filter 61 processed in 1s\n",
      "Processing filter 62\n",
      "Current loss value: 4.34251\n",
      "Filter 62 processed in 1s\n",
      "Processing filter 63\n",
      "Current loss value: 5.11816\n",
      "Filter 63 processed in 1s\n"
     ]
    }
   ],
   "source": [
    "input_img = loaded_model.input # this is just defining the layer to calculate gradients\n",
    "layer_name = 'conv2d_2'\n",
    "num_filters = 64\n",
    "\n",
    "kept_filters = []\n",
    "for filter_index in range(num_filters): # cannot exceed the number of filters in the layer\n",
    "    \n",
    "    print('Processing filter %d' % filter_index)\n",
    "    start_time = time.time()\n",
    "\n",
    "    # we build a loss function that maximizes the activation\n",
    "    # of the nth filter of the layer considered\n",
    "    layer_output = layer_dict[layer_name].output\n",
    "    if K.image_data_format() == 'channels_first':\n",
    "        loss = K.mean(layer_output[:, filter_index, :, :])\n",
    "    else:\n",
    "        # loss = K.mean(layer_output[:, :, :, filter_index])\n",
    "        loss = K.mean(layer_output[:,:,:, filter_index]) ############# CAREFUL, THIS HAS TO BE RIGHT!\n",
    "\n",
    "    # this function returns the loss given the input picture\n",
    "    iterate = K.function([input_img], [layer_output[:,:,:, filter_index], loss])\n",
    "\n",
    "    # this is the real input image!\n",
    "    # we start from a gray image with some random noise\n",
    "\n",
    "    output, loss_value = iterate([input_img_data]) # output is of shape (1, n, n)\n",
    "    print('Current loss value:', loss_value)\n",
    "\n",
    "    # do we need to call deprocess_image() ?\n",
    "    img = output[0] #deprocess_image(input_img_data[0])\n",
    "    kept_filters.append(img)\n",
    "    end_time = time.time()\n",
    "    print('Filter %d processed in %ds' % (filter_index, end_time - start_time))"
   ]
  },
  {
   "cell_type": "code",
   "execution_count": 354,
   "metadata": {
    "collapsed": false,
    "deletable": true,
    "editable": true
   },
   "outputs": [
    {
     "name": "stdout",
     "output_type": "stream",
     "text": [
      "44\n"
     ]
    }
   ],
   "source": [
    "print(np.array(kept_filters).shape[2])"
   ]
  },
  {
   "cell_type": "code",
   "execution_count": 356,
   "metadata": {
    "collapsed": false,
    "deletable": true,
    "editable": true
   },
   "outputs": [
    {
     "data": {
      "text/plain": [
       "\"for i in range(num_filters):\\n    img, loss = kept_filters[i]\\n    imsave('conv2d_1_v3_filter_%s.png' % (i+8), img[:,:,0])\""
      ]
     },
     "execution_count": 356,
     "metadata": {},
     "output_type": "execute_result"
    }
   ],
   "source": [
    "# we will stitch the best n^2 filters on a n x n grid.\n",
    "n = 8\n",
    "img_width = np.array(kept_filters).shape[2]\n",
    "img_height = np.array(kept_filters).shape[2]\n",
    "brighten = 100\n",
    "\n",
    "# the filters that have the highest loss are assumed to be better-looking.\n",
    "# we will only keep the top 64 filters.\n",
    "\n",
    "# build a black picture with enough space for\n",
    "# our 8 x 8 filters of size 128 x 128, with a 5px margin in between\n",
    "margin = 5\n",
    "width = n * img_width + (n - 1) * margin\n",
    "height = n * img_height + (n - 1) * margin\n",
    "stitched_filters = np.ones((width, height), dtype=np.uint8) * 255\n",
    "\n",
    "# fill the picture with our saved filters\n",
    "for i in range(n):\n",
    "    for j in range(n):\n",
    "        img = np.array(kept_filters[i * n + j], dtype=np.uint8) + brighten # deprocess_image(kept_filters[i * n + j])\n",
    "        stitched_filters[(img_width + margin) * i: (img_width + margin) * i + img_width,\n",
    "                         (img_height + margin) * j: (img_height + margin) * j + img_height] = img\n",
    "\n",
    "\n",
    "# save the result to disk\n",
    "imsave('filter_outputs_%s_bright%d_%dx%d.png' % (layer_name, brighten, n, n), stitched_filters)\n",
    "\n",
    "'''for i in range(num_filters):\n",
    "    img, loss = kept_filters[i]\n",
    "    imsave('conv2d_1_v3_filter_%s.png' % (i+8), img[:,:,0])'''"
   ]
  },
  {
   "cell_type": "code",
   "execution_count": 345,
   "metadata": {
    "collapsed": true,
    "deletable": true,
    "editable": true
   },
   "outputs": [],
   "source": [
    "imsave('all_200.png', np.ones((100, 100), dtype=np.uint8) * 200)"
   ]
  },
  {
   "cell_type": "code",
   "execution_count": 336,
   "metadata": {
    "collapsed": false,
    "deletable": true,
    "editable": true
   },
   "outputs": [
    {
     "data": {
      "text/plain": [
       "(8, 8)"
      ]
     },
     "execution_count": 336,
     "metadata": {},
     "output_type": "execute_result"
    }
   ],
   "source": [
    "kept_filters[0].shape"
   ]
  },
  {
   "cell_type": "markdown",
   "metadata": {
    "deletable": true,
    "editable": true
   },
   "source": [
    "## perform gradient ascent on input image (can be initialized with real image)"
   ]
  },
  {
   "cell_type": "code",
   "execution_count": 231,
   "metadata": {
    "collapsed": false,
    "deletable": true,
    "editable": true
   },
   "outputs": [
    {
     "name": "stderr",
     "output_type": "stream",
     "text": [
      "/Library/Frameworks/Python.framework/Versions/3.6/lib/python3.6/site-packages/skimage/transform/_warps.py:84: UserWarning: The default mode, 'constant', will be changed to 'reflect' in skimage 0.15.\n",
      "  warn(\"The default mode, 'constant', will be changed to 'reflect' in \"\n"
     ]
    }
   ],
   "source": [
    "input_img_data = utils.load_img('joy2.jpg', target_size=(48, 48, 1))\n",
    "input_img_data = np.array(input_img_data).reshape((1,48,48,1))"
   ]
  },
  {
   "cell_type": "code",
   "execution_count": 197,
   "metadata": {
    "collapsed": false,
    "deletable": true,
    "editable": true
   },
   "outputs": [
    {
     "name": "stdout",
     "output_type": "stream",
     "text": [
      "Processing filter 0\n",
      "Current loss value: 3.08874\n",
      "Current loss value: 4.23412\n",
      "Current loss value: 5.43089\n",
      "Current loss value: 6.66181\n",
      "Current loss value: 7.91759\n",
      "Filter 0 processed in 5s\n",
      "Processing filter 1\n",
      "Current loss value: 2.31214\n",
      "Current loss value: 3.16363\n",
      "Current loss value: 4.03991\n",
      "Current loss value: 4.93399\n",
      "Current loss value: 5.84112\n",
      "Filter 1 processed in 4s\n",
      "Processing filter 2\n",
      "Current loss value: 0.0\n",
      "Current loss value: 0.0\n",
      "Current loss value: 0.0\n",
      "Current loss value: 0.0\n",
      "Current loss value: 0.0\n",
      "Filter 2 processed in 4s\n",
      "Processing filter 3\n",
      "Current loss value: 0.0\n",
      "Current loss value: 0.0\n",
      "Current loss value: 0.0\n",
      "Current loss value: 0.0\n",
      "Current loss value: 0.0\n",
      "Filter 3 processed in 4s\n",
      "Processing filter 4\n",
      "Current loss value: 0.400945\n",
      "Current loss value: 0.882913\n",
      "Current loss value: 1.45441\n",
      "Current loss value: 2.08355\n",
      "Current loss value: 2.75878\n",
      "Filter 4 processed in 4s\n",
      "Processing filter 5\n",
      "Current loss value: 0.0\n",
      "Current loss value: 0.0\n",
      "Current loss value: 0.0\n",
      "Current loss value: 0.0\n",
      "Current loss value: 0.0\n",
      "Filter 5 processed in 5s\n",
      "Processing filter 6\n",
      "Current loss value: 3.2589\n",
      "Current loss value: 4.33097\n",
      "Current loss value: 5.47773\n",
      "Current loss value: 6.67246\n",
      "Current loss value: 7.8974\n",
      "Filter 6 processed in 6s\n",
      "Processing filter 7\n",
      "Current loss value: 1.66113\n",
      "Current loss value: 2.3735\n",
      "Current loss value: 3.09967\n",
      "Current loss value: 3.83486\n",
      "Current loss value: 4.57684\n",
      "Filter 7 processed in 6s\n",
      "Processing filter 8\n",
      "Current loss value: 11.3637\n",
      "Current loss value: 11.7172\n",
      "Current loss value: 12.0708\n",
      "Current loss value: 12.4243\n",
      "Current loss value: 12.7778\n",
      "Filter 8 processed in 5s\n",
      "Processing filter 9\n",
      "Current loss value: 1.58516\n",
      "Current loss value: 2.69622\n",
      "Current loss value: 3.86149\n",
      "Current loss value: 5.06379\n",
      "Current loss value: 6.29275\n",
      "Filter 9 processed in 4s\n",
      "Processing filter 10\n",
      "Current loss value: 24.7346\n",
      "Current loss value: 25.4373\n",
      "Current loss value: 26.14\n",
      "Current loss value: 26.8428\n",
      "Current loss value: 27.5455\n",
      "Filter 10 processed in 5s\n",
      "Processing filter 11\n",
      "Current loss value: 0.712263\n",
      "Current loss value: 1.53787\n",
      "Current loss value: 2.48768\n",
      "Current loss value: 3.50908\n",
      "Current loss value: 4.58271\n",
      "Filter 11 processed in 5s\n",
      "Processing filter 12\n",
      "Current loss value: 1.86822\n",
      "Current loss value: 3.06971\n",
      "Current loss value: 4.30512\n",
      "Current loss value: 5.56457\n",
      "Current loss value: 6.83813\n",
      "Filter 12 processed in 5s\n",
      "Processing filter 13\n",
      "Current loss value: 3.62716\n",
      "Current loss value: 4.56419\n",
      "Current loss value: 5.61911\n",
      "Current loss value: 6.75202\n",
      "Current loss value: 7.93558\n",
      "Filter 13 processed in 5s\n",
      "Processing filter 14\n",
      "Current loss value: 0.0\n",
      "Current loss value: 0.0\n",
      "Current loss value: 0.0\n",
      "Current loss value: 0.0\n",
      "Current loss value: 0.0\n",
      "Filter 14 processed in 6s\n",
      "Processing filter 15\n",
      "Current loss value: 4.63066\n",
      "Current loss value: 5.05093\n",
      "Current loss value: 5.55124\n",
      "Current loss value: 6.12532\n",
      "Current loss value: 6.76812\n",
      "Filter 15 processed in 5s\n",
      "Processing filter 16\n",
      "Current loss value: 3.39013\n",
      "Current loss value: 3.80926\n",
      "Current loss value: 4.28682\n",
      "Current loss value: 4.8184\n",
      "Current loss value: 5.39099\n",
      "Filter 16 processed in 6s\n",
      "Processing filter 17\n",
      "Current loss value: 1.95565\n",
      "Current loss value: 3.00148\n",
      "Current loss value: 4.07094\n",
      "Current loss value: 5.16171\n",
      "Current loss value: 6.26188\n",
      "Filter 17 processed in 5s\n",
      "Processing filter 18\n",
      "Current loss value: 0.0\n",
      "Current loss value: 0.0\n",
      "Current loss value: 0.0\n",
      "Current loss value: 0.0\n",
      "Current loss value: 0.0\n",
      "Filter 18 processed in 5s\n",
      "Processing filter 19\n",
      "Current loss value: 0.314731\n",
      "Current loss value: 0.630988\n",
      "Current loss value: 1.00204\n",
      "Current loss value: 1.42916\n",
      "Current loss value: 1.89487\n",
      "Filter 19 processed in 5s\n",
      "Processing filter 20\n",
      "Current loss value: 1.08497\n",
      "Current loss value: 1.90855\n",
      "Current loss value: 2.77927\n",
      "Current loss value: 3.68258\n",
      "Current loss value: 4.61053\n",
      "Filter 20 processed in 6s\n",
      "Processing filter 21\n",
      "Current loss value: 2.32604\n",
      "Current loss value: 3.19574\n",
      "Current loss value: 4.08746\n",
      "Current loss value: 5.00305\n",
      "Current loss value: 5.93436\n",
      "Filter 21 processed in 6s\n",
      "Processing filter 22\n",
      "Current loss value: 4.86219\n",
      "Current loss value: 5.17397\n",
      "Current loss value: 5.49189\n",
      "Current loss value: 5.81588\n",
      "Current loss value: 6.14638\n",
      "Filter 22 processed in 6s\n",
      "Processing filter 23\n",
      "Current loss value: 3.38532\n",
      "Current loss value: 4.01691\n",
      "Current loss value: 4.71153\n",
      "Current loss value: 5.47302\n",
      "Current loss value: 6.28213\n",
      "Filter 23 processed in 6s\n",
      "Processing filter 24\n",
      "Current loss value: 14.6491\n",
      "Current loss value: 15.0962\n",
      "Current loss value: 15.5433\n",
      "Current loss value: 15.9904\n",
      "Current loss value: 16.4375\n",
      "Filter 24 processed in 5s\n"
     ]
    }
   ],
   "source": [
    "input_img = loaded_model.input # this is just defining the layer to calculate gradients\n",
    "layer_name = 'conv2d_1'\n",
    "num_filters = 25\n",
    "\n",
    "kept_filters = []\n",
    "for filter_index in range(num_filters): # cannot exceed the number of filters in the layer\n",
    "    \n",
    "    print('Processing filter %d' % filter_index)\n",
    "    start_time = time.time()\n",
    "\n",
    "    # we build a loss function that maximizes the activation\n",
    "    # of the nth filter of the layer considered\n",
    "    layer_output = layer_dict[layer_name].output\n",
    "    if K.image_data_format() == 'channels_first':\n",
    "        loss = K.mean(layer_output[:, filter_index, :, :])\n",
    "    else:\n",
    "        # loss = K.mean(layer_output[:, :, :, filter_index])\n",
    "        loss = K.mean(layer_output[:,:,:, filter_index]) ############# CAREFUL, THIS HAS TO BE RIGHT!\n",
    "\n",
    "    # we compute the gradient of the input picture wrt this loss\n",
    "    grads = K.gradients(loss, input_img)[0]\n",
    "\n",
    "    # normalization trick: we normalize the gradient\n",
    "    grads = normalize(grads) # self-defined function\n",
    "\n",
    "    # this function returns the loss and grads given the input picture\n",
    "    iterate = K.function([input_img], [loss, grads])\n",
    "\n",
    "    # step size for gradient ascent\n",
    "    step = 0.01\n",
    "\n",
    "    # this is the real input image!\n",
    "    # we start from a gray image with some random noise\n",
    "    if K.image_data_format() == 'channels_first':\n",
    "        input_img_data = np.random.random((1, 1, 48, 48))\n",
    "    else:\n",
    "        input_img_data = np.random.random((1, 48, 48, 1)) # I suppose this means input is only one image\n",
    "    input_img_data = (input_img_data - 0.5) * 20 + 128\n",
    "\n",
    "    # we run gradient ascent\n",
    "    for i in range(2000):\n",
    "        loss_value, grads_value = iterate([input_img_data])\n",
    "        input_img_data = input_img_data + grads_value * step\n",
    "\n",
    "        if i % 400 == 399:\n",
    "            print('Current loss value:', loss_value)\n",
    "        '''if loss_value <= 0.: # my activation is ReLU, output of layer cannot be < 0?\n",
    "            # some filters get stuck to 0, we can skip them\n",
    "            # but what if gradient can take loss to positive value?\n",
    "            break'''\n",
    "        \n",
    "        '''if loss_value == 1.0:\n",
    "            print('reached 1.0!')\n",
    "            break'''\n",
    "\n",
    "    # decode the resulting input image\n",
    "    if True: # loss_value > 0\n",
    "        img = deprocess_image(input_img_data[0])\n",
    "        kept_filters.append((img, loss_value))\n",
    "    end_time = time.time()\n",
    "    print('Filter %d processed in %ds' % (filter_index, end_time - start_time))"
   ]
  },
  {
   "cell_type": "code",
   "execution_count": 198,
   "metadata": {
    "collapsed": false,
    "deletable": true,
    "editable": true
   },
   "outputs": [
    {
     "name": "stdout",
     "output_type": "stream",
     "text": [
      "25\n"
     ]
    },
    {
     "data": {
      "text/plain": [
       "\"for i in range(num_filters):\\n    img, loss = kept_filters[i]\\n    imsave('conv2d_1_v3_filter_%s.png' % (i+8), img[:,:,0])\""
      ]
     },
     "execution_count": 198,
     "metadata": {},
     "output_type": "execute_result"
    }
   ],
   "source": [
    "# we will stitch the best n^2 filters on a n x n grid.\n",
    "n = 5\n",
    "\n",
    "# the filters that have the highest loss are assumed to be better-looking.\n",
    "# we will only keep the top 64 filters.\n",
    "kept_filters.sort(key=lambda x: x[1], reverse=True)\n",
    "kept_filters = kept_filters[:n * n]\n",
    "print(len(kept_filters))\n",
    "\n",
    "# build a black picture with enough space for\n",
    "# our 8 x 8 filters of size 128 x 128, with a 5px margin in between\n",
    "margin = 5\n",
    "width = n * img_width + (n - 1) * margin\n",
    "height = n * img_height + (n - 1) * margin\n",
    "stitched_filters = np.zeros((width, height, 3))\n",
    "\n",
    "# fill the picture with our saved filters\n",
    "for i in range(n):\n",
    "    for j in range(n):\n",
    "        img, loss = kept_filters[i * n + j]\n",
    "        stitched_filters[(img_width + margin) * i: (img_width + margin) * i + img_width,\n",
    "                         (img_height + margin) * j: (img_height + margin) * j + img_height, :] = img\n",
    "\n",
    "\n",
    "# save the result to disk\n",
    "imsave('stitched_filters_smallerrate_%s_%dx%d.png' % (layer_name, n, n), stitched_filters)\n",
    "\n",
    "'''for i in range(num_filters):\n",
    "    img, loss = kept_filters[i]\n",
    "    imsave('conv2d_1_v3_filter_%s.png' % (i+8), img[:,:,0])'''"
   ]
  },
  {
   "cell_type": "markdown",
   "metadata": {
    "deletable": true,
    "editable": true
   },
   "source": [
    "## saliency map"
   ]
  },
  {
   "cell_type": "markdown",
   "metadata": {
    "deletable": true,
    "editable": true
   },
   "source": [
    "#### choose image to see saliency"
   ]
  },
  {
   "cell_type": "code",
   "execution_count": 347,
   "metadata": {
    "collapsed": false,
    "deletable": true,
    "editable": true
   },
   "outputs": [
    {
     "name": "stdout",
     "output_type": "stream",
     "text": [
      "fear\n"
     ]
    }
   ],
   "source": [
    "img_id = 110\n",
    "\n",
    "img = Image.new('L', (img_rows, img_cols))\n",
    "pixelsNew = img.load()\n",
    "for i in range(len(x_train[img_id])): # cols, WTF?\n",
    "    for j in range(len(x_train[img_id][i])): # rows\n",
    "        pixelsNew[j,i] = int(x_train[img_id][i][j][0] * 256)\n",
    "img.show()\n",
    "classes = ['angry', 'hate', 'fear', 'joy', 'sad', 'surprise', 'neutral']\n",
    "print(classes[np.argmax(y_train[img_id])])"
   ]
  },
  {
   "cell_type": "code",
   "execution_count": 348,
   "metadata": {
    "collapsed": true,
    "deletable": true,
    "editable": true
   },
   "outputs": [],
   "source": [
    "img.save('fear2.jpg')"
   ]
  },
  {
   "cell_type": "markdown",
   "metadata": {
    "deletable": true,
    "editable": true
   },
   "source": [
    "#### begin setting up saliency map"
   ]
  },
  {
   "cell_type": "code",
   "execution_count": 116,
   "metadata": {
    "collapsed": true,
    "deletable": true,
    "editable": true
   },
   "outputs": [],
   "source": [
    "# Utility to search for layer index by name. \n",
    "# Alternatively we can specify this as -1 since it corresponds to the last layer.\n",
    "# layer_idx = utils.find_layer_idx(loaded_model, 'predictions')\n",
    "\n",
    "# Swap softmax with linear\n",
    "loaded_model.layers[-1].activation = activations.linear\n",
    "loaded_model = utils.apply_modifications(loaded_model)"
   ]
  },
  {
   "cell_type": "code",
   "execution_count": 349,
   "metadata": {
    "collapsed": false,
    "deletable": true,
    "editable": true
   },
   "outputs": [
    {
     "name": "stderr",
     "output_type": "stream",
     "text": [
      "/usr/local/lib/python3.6/site-packages/skimage/transform/_warps.py:84: UserWarning: The default mode, 'constant', will be changed to 'reflect' in skimage 0.15.\n",
      "  warn(\"The default mode, 'constant', will be changed to 'reflect' in \"\n"
     ]
    },
    {
     "data": {
      "text/plain": [
       "<matplotlib.colorbar.Colorbar at 0x137b4b828>"
      ]
     },
     "execution_count": 349,
     "metadata": {},
     "output_type": "execute_result"
    },
    {
     "data": {
      "image/png": "[encoded data removed]",
      "text/plain": [
       "<matplotlib.figure.Figure at 0x136c803c8>"
      ]
     },
     "metadata": {},
     "output_type": "display_data"
    }
   ],
   "source": [
    "img1 = utils.load_img('fear2.jpg', target_size=(48, 48, 1))\n",
    "grads = visualize_saliency(loaded_model, -1, filter_indices=None, seed_input=img1) # grads is a 'jet' image\n",
    "grads_norm = utils.normalize(grads)\n",
    "# visualize grads as heatmap\n",
    "plt.imshow(grads_norm, cmap='jet')\n",
    "plt.colorbar() # this bar is independent from grads, merely the 'jet' scheme bar"
   ]
  },
  {
   "cell_type": "markdown",
   "metadata": {
    "deletable": true,
    "editable": true
   },
   "source": [
    "#### see which rgb values to cut based on trying jet(scalar vals)"
   ]
  },
  {
   "cell_type": "code",
   "execution_count": 284,
   "metadata": {
    "collapsed": false,
    "deletable": true,
    "editable": true
   },
   "outputs": [
    {
     "data": {
      "text/plain": [
       "array([   0.  ,  177.19,  256.  ])"
      ]
     },
     "execution_count": 284,
     "metadata": {},
     "output_type": "execute_result"
    }
   ],
   "source": [
    "# plt.imshow(np.random.rand(10,10), 'jet')\n",
    "np.array(list(cm.jet(0.3))[0:3]) * 256"
   ]
  },
  {
   "cell_type": "code",
   "execution_count": 350,
   "metadata": {
    "collapsed": true,
    "deletable": true,
    "editable": true
   },
   "outputs": [],
   "source": [
    "img_cut = Image.new('L', (img_rows, img_cols))\n",
    "pixelsNew = img_cut.load()\n",
    "for i in range(len(grads)): # cols, WTF?\n",
    "    for j in range(len(grads[i])): # rows\n",
    "        if grads[i][j][1] > 177:\n",
    "            pixelsNew[j,i] = int(x_train[img_id][i][j][0] * 256)\n",
    "img_cut.show()\n",
    "# img_cut.save('cut.jpg')"
   ]
  },
  {
   "cell_type": "markdown",
   "metadata": {
    "deletable": true,
    "editable": true
   },
   "source": [
    "## confusion matrix"
   ]
  },
  {
   "cell_type": "code",
   "execution_count": 60,
   "metadata": {
    "collapsed": false,
    "deletable": true,
    "editable": true
   },
   "outputs": [
    {
     "name": "stdout",
     "output_type": "stream",
     "text": [
      "Normalized confusion matrix\n",
      "[[ 0.52  0.    0.1   0.05  0.22  0.01  0.09]\n",
      " [ 0.59  0.    0.15  0.03  0.21  0.03  0.  ]\n",
      " [ 0.13  0.    0.34  0.05  0.28  0.1   0.09]\n",
      " [ 0.01  0.    0.02  0.87  0.04  0.01  0.05]\n",
      " [ 0.07  0.    0.05  0.06  0.64  0.    0.18]\n",
      " [ 0.02  0.    0.15  0.06  0.03  0.7   0.04]\n",
      " [ 0.04  0.    0.04  0.09  0.26  0.01  0.57]]\n"
     ]
    },
    {
     "data": {
      "image/png": "[encoded data removed]",
      "text/plain": [
       "<matplotlib.figure.Figure at 0x12300a898>"
      ]
     },
     "metadata": {},
     "output_type": "display_data"
    }
   ],
   "source": [
    "def plot_confusion_matrix(cm, classes,\n",
    "                          normalize=False,\n",
    "                          title='Confusion matrix',\n",
    "                          cmap=plt.cm.Blues):\n",
    "    \"\"\"\n",
    "    This function prints and plots the confusion matrix.\n",
    "    Normalization can be applied by setting `normalize=True`.\n",
    "    \"\"\"\n",
    "    if normalize:\n",
    "        cm = cm.astype('float') / cm.sum(axis=1)[:, np.newaxis]\n",
    "        print(\"Normalized confusion matrix\")\n",
    "    else:\n",
    "        print('Confusion matrix, without normalization')\n",
    "\n",
    "    print(cm)\n",
    "\n",
    "    plt.imshow(cm, interpolation='nearest', cmap=cmap)\n",
    "    plt.title(title)\n",
    "    plt.colorbar()\n",
    "    tick_marks = np.arange(len(classes))\n",
    "    plt.xticks(tick_marks, classes, rotation=45)\n",
    "    plt.yticks(tick_marks, classes)\n",
    "\n",
    "    fmt = '.2f' if normalize else 'd'\n",
    "    thresh = cm.max() / 2.\n",
    "    for i, j in itertools.product(range(cm.shape[0]), range(cm.shape[1])):\n",
    "        plt.text(j, i, format(cm[i, j], fmt),\n",
    "                 horizontalalignment=\"center\",\n",
    "                 color=\"white\" if cm[i, j] > thresh else \"black\")\n",
    "\n",
    "    plt.tight_layout()\n",
    "    plt.ylabel('True label')\n",
    "    plt.xlabel('Predicted label')\n",
    "\n",
    "cnf_matrix = confusion_matrix([np.argmax(i) for i in y_train[-2871:]], pred_to_category_num)\n",
    "np.set_printoptions(precision=2)\n",
    "\n",
    "plt.figure()\n",
    "plot_confusion_matrix(cnf_matrix, classes=['angry', 'hate', 'fear', 'joy', 'sad', 'surprise', 'neutral'], normalize=True,\n",
    "                      title='Normalized confusion matrix')\n",
    "plt.show()"
   ]
  },
  {
   "cell_type": "markdown",
   "metadata": {},
   "source": [
    "## write submission file"
   ]
  },
  {
   "cell_type": "code",
   "execution_count": 58,
   "metadata": {
    "collapsed": false,
    "deletable": true,
    "editable": true
   },
   "outputs": [
    {
     "name": "stdout",
     "output_type": "stream",
     "text": [
      "finished writing submission!\n"
     ]
    }
   ],
   "source": [
    "with open('200.csv', 'wt') as outfile:\n",
    "    test_writer = csv.writer(outfile)\n",
    "    test_writer.writerow(['id','label'])\n",
    "    \n",
    "    counter = 0\n",
    "    for num in pred_to_category_num:\n",
    "        test_writer.writerow([counter, num])\n",
    "        counter += 1\n",
    "    \n",
    "print('finished writing submission!')"
   ]
  },
  {
   "cell_type": "code",
   "execution_count": 79,
   "metadata": {
    "collapsed": true,
    "deletable": true,
    "editable": true
   },
   "outputs": [],
   "source": [
    "model.save('CNN_dsafadsf.h5')"
   ]
  },
  {
   "cell_type": "code",
   "execution_count": null,
   "metadata": {
    "collapsed": true,
    "deletable": true,
    "editable": true
   },
   "outputs": [],
   "source": []
  }
 ],
 "metadata": {
  "kernelspec": {
   "display_name": "Python 3",
   "language": "python",
   "name": "python3"
  },
  "language_info": {
   "codemirror_mode": {
    "name": "ipython",
    "version": 3
   },
   "file_extension": ".py",
   "mimetype": "text/x-python",
   "name": "python",
   "nbconvert_exporter": "python",
   "pygments_lexer": "ipython3",
   "version": "3.6.1"
  }
 },
 "nbformat": 4,
 "nbformat_minor": 2
}
