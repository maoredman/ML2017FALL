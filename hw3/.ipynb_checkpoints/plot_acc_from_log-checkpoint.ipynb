{
 "cells": [
  {
   "cell_type": "code",
   "execution_count": 1,
   "metadata": {
    "collapsed": true
   },
   "outputs": [],
   "source": [
    "import csv"
   ]
  },
  {
   "cell_type": "code",
   "execution_count": 33,
   "metadata": {},
   "outputs": [
    {
     "name": "stdout",
     "output_type": "stream",
     "text": [
      "['INFO:root:Epoch[0]', 'Train-accuracy=0.228268']\n",
      "['INFO:root:Epoch[0]', 'Validation-accuracy=0.248346']\n",
      "['INFO:root:Epoch[5]', 'Train-accuracy=0.367908']\n",
      "['INFO:root:Epoch[5]', 'Validation-accuracy=0.404040']\n",
      "['INFO:root:Epoch[10]', 'Train-accuracy=0.451854']\n",
      "['INFO:root:Epoch[10]', 'Validation-accuracy=0.481017']\n",
      "['INFO:root:Epoch[15]', 'Train-accuracy=0.501896']\n",
      "['INFO:root:Epoch[15]', 'Validation-accuracy=0.546151']\n",
      "['INFO:root:Epoch[20]', 'Train-accuracy=0.532897']\n",
      "['INFO:root:Epoch[20]', 'Validation-accuracy=0.568791']\n",
      "['INFO:root:Epoch[25]', 'Train-accuracy=0.553565']\n",
      "['INFO:root:Epoch[25]', 'Validation-accuracy=0.576803']\n"
     ]
    }
   ],
   "source": [
    "train_accs = []\n",
    "val_accs = []\n",
    "\n",
    "with open('console_log (4)', 'rt') as csvfile:\n",
    "    reader = csv.reader(csvfile, delimiter=' ')\n",
    "    logged_train = False\n",
    "    for idx, row in enumerate(reader):\n",
    "        if logged_train: # next row\n",
    "            # print(row)\n",
    "            val_accs.append(row[1].split('=')[1])\n",
    "            logged_train = False\n",
    "            counter += 1\n",
    "        if len(row) > 1 and row[1][0:14] == 'Train-accuracy':\n",
    "            # print(row)\n",
    "            train_accs.append(row[1].split('=')[1])\n",
    "            logged_train = True"
   ]
  },
  {
   "cell_type": "code",
   "execution_count": 35,
   "metadata": {},
   "outputs": [
    {
     "name": "stdout",
     "output_type": "stream",
     "text": [
      "['0.228268', '0.367908', '0.451854', '0.501896', '0.532897', '0.553565']\n",
      "['0.248346', '0.404040', '0.481017', '0.546151', '0.568791', '0.576803']\n"
     ]
    }
   ],
   "source": [
    "print(train_accs)\n",
    "print(val_accs)"
   ]
  },
  {
   "cell_type": "code",
   "execution_count": null,
   "metadata": {
    "collapsed": true
   },
   "outputs": [],
   "source": []
  }
 ],
 "metadata": {
  "kernelspec": {
   "display_name": "Python 3",
   "language": "python",
   "name": "python3"
  },
  "language_info": {
   "codemirror_mode": {
    "name": "ipython",
    "version": 3
   },
   "file_extension": ".py",
   "mimetype": "text/x-python",
   "name": "python",
   "nbconvert_exporter": "python",
   "pygments_lexer": "ipython3",
   "version": "3.6.2"
  }
 },
 "nbformat": 4,
 "nbformat_minor": 2
}
