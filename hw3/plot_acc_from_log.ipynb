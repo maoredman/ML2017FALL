{
 "cells": [
  {
   "cell_type": "code",
   "execution_count": 43,
   "metadata": {
    "collapsed": true
   },
   "outputs": [],
   "source": [
    "import csv\n",
    "import numpy as np\n",
    "import matplotlib.pyplot as plt"
   ]
  },
  {
   "cell_type": "code",
   "execution_count": 36,
   "metadata": {},
   "outputs": [
    {
     "name": "stdout",
     "output_type": "stream",
     "text": [
      "finished reading accuracies!\n"
     ]
    }
   ],
   "source": [
    "train_accs = []\n",
    "val_accs = []\n",
    "\n",
    "with open('console_log (4)', 'rt') as csvfile:\n",
    "    reader = csv.reader(csvfile, delimiter=' ')\n",
    "    logged_train = False\n",
    "    for idx, row in enumerate(reader):\n",
    "        if logged_train: # next row\n",
    "            # print(row)\n",
    "            val_accs.append(row[1].split('=')[1])\n",
    "            logged_train = False\n",
    "            counter += 1\n",
    "        if len(row) > 1 and row[1][0:14] == 'Train-accuracy':\n",
    "            # print(row)\n",
    "            train_accs.append(row[1].split('=')[1])\n",
    "            logged_train = True\n",
    "print('finished reading accuracies!')"
   ]
  },
  {
   "cell_type": "code",
   "execution_count": 38,
   "metadata": {},
   "outputs": [
    {
     "name": "stdout",
     "output_type": "stream",
     "text": [
      "40\n",
      "['0.248346', '0.404040', '0.481017', '0.546151', '0.568791', '0.576803', '0.587948', '0.595960', '0.606757', '0.607454', '0.618600', '0.621386', '0.621735', '0.621038', '0.619296', '0.621735', '0.625914', '0.620341', '0.625218', '0.631139', '0.621386', '0.635667', '0.628004', '0.624173', '0.627656', '0.633229', '0.630791', '0.631487', '0.632184', '0.624173', '0.617555', '0.623476', '0.629397', '0.628004', '0.625218', '0.627308', '0.624869', '0.632184', '0.626959', '0.623476']\n"
     ]
    }
   ],
   "source": [
    "print(len(train_accs))\n",
    "print(val_accs)"
   ]
  },
  {
   "cell_type": "code",
   "execution_count": 41,
   "metadata": {
    "collapsed": true
   },
   "outputs": [],
   "source": [
    "x = [i for i in range(5, 201, 5)]"
   ]
  },
  {
   "cell_type": "code",
   "execution_count": 62,
   "metadata": {},
   "outputs": [
    {
     "data": {
      "image/png": "[encoded data removed]",
      "text/plain": [
       "<matplotlib.figure.Figure at 0x1158f5358>"
      ]
     },
     "metadata": {},
     "output_type": "display_data"
    }
   ],
   "source": [
    "plt.plot(x, train_accs, label=\"train\")\n",
    "plt.plot(x, val_accs, label=\"valid\")\n",
    "plt.xlabel('# of epochs')\n",
    "plt.ylabel('accuracy')\n",
    "plt.legend()\n",
    "plt.savefig('pass_baseline_CNN')\n",
    "plt.show()"
   ]
  },
  {
   "cell_type": "code",
   "execution_count": null,
   "metadata": {
    "collapsed": true
   },
   "outputs": [],
   "source": []
  }
 ],
 "metadata": {
  "kernelspec": {
   "display_name": "Python 3",
   "language": "python",
   "name": "python3"
  },
  "language_info": {
   "codemirror_mode": {
    "name": "ipython",
    "version": 3
   },
   "file_extension": ".py",
   "mimetype": "text/x-python",
   "name": "python",
   "nbconvert_exporter": "python",
   "pygments_lexer": "ipython3",
   "version": "3.6.2"
  }
 },
 "nbformat": 4,
 "nbformat_minor": 2
}
